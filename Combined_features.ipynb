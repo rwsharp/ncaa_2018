{
 "cells": [
  {
   "cell_type": "code",
   "execution_count": 1,
   "metadata": {
    "collapsed": false
   },
   "outputs": [
    {
     "name": "stderr",
     "output_type": "stream",
     "text": [
      "/Users/rsharp/PROJECTS/rws_project_python/lib/python2.7/site-packages/matplotlib/font_manager.py:273: UserWarning: Matplotlib is building the font cache using fc-list. This may take a moment.\n",
      "  warnings.warn('Matplotlib is building the font cache using fc-list. This may take a moment.')\n"
     ]
    }
   ],
   "source": [
    "%matplotlib inline\n",
    "\n",
    "import os\n",
    "import pandas\n",
    "import numpy\n",
    "import sklearn\n",
    "import matplotlib.pyplot as plt\n",
    "from sklearn.tree import DecisionTreeRegressor\n",
    "from sklearn.ensemble import AdaBoostRegressor\n"
   ]
  },
  {
   "cell_type": "code",
   "execution_count": 2,
   "metadata": {
    "collapsed": false
   },
   "outputs": [
    {
     "data": {
      "text/html": [
       "<div>\n",
       "<table border=\"1\" class=\"dataframe\">\n",
       "  <thead>\n",
       "    <tr style=\"text-align: right;\">\n",
       "      <th></th>\n",
       "      <th>Team</th>\n",
       "      <th>rank</th>\n",
       "      <th>TeamID</th>\n",
       "      <th>norm_rank</th>\n",
       "      <th>Season</th>\n",
       "      <th>noise</th>\n",
       "    </tr>\n",
       "  </thead>\n",
       "  <tbody>\n",
       "    <tr>\n",
       "      <th>0</th>\n",
       "      <td>Kansas</td>\n",
       "      <td>12.285714</td>\n",
       "      <td>1242</td>\n",
       "      <td>0.000000</td>\n",
       "      <td>2010</td>\n",
       "      <td>-0.134817</td>\n",
       "    </tr>\n",
       "    <tr>\n",
       "      <th>1</th>\n",
       "      <td>Kentucky</td>\n",
       "      <td>12.416667</td>\n",
       "      <td>1246</td>\n",
       "      <td>0.002627</td>\n",
       "      <td>2010</td>\n",
       "      <td>-0.317707</td>\n",
       "    </tr>\n",
       "    <tr>\n",
       "      <th>2</th>\n",
       "      <td>Duke</td>\n",
       "      <td>12.416667</td>\n",
       "      <td>1181</td>\n",
       "      <td>0.002627</td>\n",
       "      <td>2010</td>\n",
       "      <td>-0.265148</td>\n",
       "    </tr>\n",
       "    <tr>\n",
       "      <th>3</th>\n",
       "      <td>Syracuse</td>\n",
       "      <td>12.600000</td>\n",
       "      <td>1393</td>\n",
       "      <td>0.006305</td>\n",
       "      <td>2010</td>\n",
       "      <td>-0.330070</td>\n",
       "    </tr>\n",
       "    <tr>\n",
       "      <th>4</th>\n",
       "      <td>West Virginia</td>\n",
       "      <td>12.875000</td>\n",
       "      <td>1452</td>\n",
       "      <td>0.011823</td>\n",
       "      <td>2010</td>\n",
       "      <td>-0.440521</td>\n",
       "    </tr>\n",
       "  </tbody>\n",
       "</table>\n",
       "</div>"
      ],
      "text/plain": [
       "            Team       rank  TeamID  norm_rank  Season     noise\n",
       "0         Kansas  12.285714    1242   0.000000    2010 -0.134817\n",
       "1       Kentucky  12.416667    1246   0.002627    2010 -0.317707\n",
       "2           Duke  12.416667    1181   0.002627    2010 -0.265148\n",
       "3       Syracuse  12.600000    1393   0.006305    2010 -0.330070\n",
       "4  West Virginia  12.875000    1452   0.011823    2010 -0.440521"
      ]
     },
     "execution_count": 2,
     "metadata": {},
     "output_type": "execute_result"
    }
   ],
   "source": [
    "polls_file_name = 'full_bracket.poll_of_polls.csv'\n",
    "streak_file_name = 'composite_streak_data.csv'\n",
    "points_file_name =  'team_points.csv'\n",
    "\n",
    "\n",
    "polls = pandas.read_csv(polls_file_name, sep='|')\n",
    "streak = pandas.read_csv(streak_file_name, sep='|').drop('Unnamed: 0', axis=1)\n",
    "points = pandas.read_csv(points_file_name, sep='|').drop('Unnamed: 0', axis=1)\n",
    "\n",
    "polls[:5]"
   ]
  },
  {
   "cell_type": "code",
   "execution_count": 3,
   "metadata": {
    "collapsed": false
   },
   "outputs": [
    {
     "data": {
      "text/html": [
       "<div>\n",
       "<table border=\"1\" class=\"dataframe\">\n",
       "  <thead>\n",
       "    <tr style=\"text-align: right;\">\n",
       "      <th></th>\n",
       "      <th>Season</th>\n",
       "      <th>StreakLen</th>\n",
       "      <th>TeamID</th>\n",
       "      <th>TeamName</th>\n",
       "      <th>norm_rank</th>\n",
       "      <th>streak</th>\n",
       "      <th>noise</th>\n",
       "      <th>Points</th>\n",
       "    </tr>\n",
       "  </thead>\n",
       "  <tbody>\n",
       "    <tr>\n",
       "      <th>508</th>\n",
       "      <td>2017</td>\n",
       "      <td>10</td>\n",
       "      <td>1314</td>\n",
       "      <td>North Carolina</td>\n",
       "      <td>0.015789</td>\n",
       "      <td>0.7</td>\n",
       "      <td>0.345116</td>\n",
       "      <td>63</td>\n",
       "    </tr>\n",
       "    <tr>\n",
       "      <th>464</th>\n",
       "      <td>2016</td>\n",
       "      <td>10</td>\n",
       "      <td>1437</td>\n",
       "      <td>Villanova</td>\n",
       "      <td>0.004682</td>\n",
       "      <td>0.8</td>\n",
       "      <td>-0.127735</td>\n",
       "      <td>63</td>\n",
       "    </tr>\n",
       "    <tr>\n",
       "      <th>350</th>\n",
       "      <td>2015</td>\n",
       "      <td>10</td>\n",
       "      <td>1181</td>\n",
       "      <td>Duke</td>\n",
       "      <td>0.001761</td>\n",
       "      <td>0.9</td>\n",
       "      <td>-0.005678</td>\n",
       "      <td>63</td>\n",
       "    </tr>\n",
       "    <tr>\n",
       "      <th>279</th>\n",
       "      <td>2014</td>\n",
       "      <td>10</td>\n",
       "      <td>1163</td>\n",
       "      <td>Connecticut</td>\n",
       "      <td>0.315937</td>\n",
       "      <td>0.7</td>\n",
       "      <td>0.382859</td>\n",
       "      <td>63</td>\n",
       "    </tr>\n",
       "    <tr>\n",
       "      <th>230</th>\n",
       "      <td>2013</td>\n",
       "      <td>10</td>\n",
       "      <td>1257</td>\n",
       "      <td>Louisville</td>\n",
       "      <td>0.000000</td>\n",
       "      <td>1.0</td>\n",
       "      <td>-0.044448</td>\n",
       "      <td>63</td>\n",
       "    </tr>\n",
       "    <tr>\n",
       "      <th>156</th>\n",
       "      <td>2012</td>\n",
       "      <td>10</td>\n",
       "      <td>1246</td>\n",
       "      <td>Kentucky</td>\n",
       "      <td>0.000000</td>\n",
       "      <td>0.9</td>\n",
       "      <td>0.075125</td>\n",
       "      <td>63</td>\n",
       "    </tr>\n",
       "    <tr>\n",
       "      <th>76</th>\n",
       "      <td>2011</td>\n",
       "      <td>10</td>\n",
       "      <td>1163</td>\n",
       "      <td>Connecticut</td>\n",
       "      <td>0.082032</td>\n",
       "      <td>0.6</td>\n",
       "      <td>0.152188</td>\n",
       "      <td>63</td>\n",
       "    </tr>\n",
       "    <tr>\n",
       "      <th>7</th>\n",
       "      <td>2010</td>\n",
       "      <td>10</td>\n",
       "      <td>1181</td>\n",
       "      <td>Duke</td>\n",
       "      <td>0.002627</td>\n",
       "      <td>0.9</td>\n",
       "      <td>-0.265148</td>\n",
       "      <td>63</td>\n",
       "    </tr>\n",
       "    <tr>\n",
       "      <th>486</th>\n",
       "      <td>2017</td>\n",
       "      <td>10</td>\n",
       "      <td>1211</td>\n",
       "      <td>Gonzaga</td>\n",
       "      <td>0.000000</td>\n",
       "      <td>0.9</td>\n",
       "      <td>0.435883</td>\n",
       "      <td>31</td>\n",
       "    </tr>\n",
       "    <tr>\n",
       "      <th>437</th>\n",
       "      <td>2016</td>\n",
       "      <td>10</td>\n",
       "      <td>1314</td>\n",
       "      <td>North Carolina</td>\n",
       "      <td>0.008027</td>\n",
       "      <td>0.8</td>\n",
       "      <td>-0.081729</td>\n",
       "      <td>31</td>\n",
       "    </tr>\n",
       "  </tbody>\n",
       "</table>\n",
       "</div>"
      ],
      "text/plain": [
       "     Season  StreakLen  TeamID        TeamName  norm_rank  streak     noise  \\\n",
       "508    2017         10    1314  North Carolina   0.015789     0.7  0.345116   \n",
       "464    2016         10    1437       Villanova   0.004682     0.8 -0.127735   \n",
       "350    2015         10    1181            Duke   0.001761     0.9 -0.005678   \n",
       "279    2014         10    1163     Connecticut   0.315937     0.7  0.382859   \n",
       "230    2013         10    1257      Louisville   0.000000     1.0 -0.044448   \n",
       "156    2012         10    1246        Kentucky   0.000000     0.9  0.075125   \n",
       "76     2011         10    1163     Connecticut   0.082032     0.6  0.152188   \n",
       "7      2010         10    1181            Duke   0.002627     0.9 -0.265148   \n",
       "486    2017         10    1211         Gonzaga   0.000000     0.9  0.435883   \n",
       "437    2016         10    1314  North Carolina   0.008027     0.8 -0.081729   \n",
       "\n",
       "     Points  \n",
       "508      63  \n",
       "464      63  \n",
       "350      63  \n",
       "279      63  \n",
       "230      63  \n",
       "156      63  \n",
       "76       63  \n",
       "7        63  \n",
       "486      31  \n",
       "437      31  "
      ]
     },
     "execution_count": 3,
     "metadata": {},
     "output_type": "execute_result"
    }
   ],
   "source": [
    "x = streak[(streak['Season'] >= 2010) & (streak['StreakLen'] == 10)] \\\n",
    "    .merge(polls[['TeamID', 'Season', 'norm_rank', 'noise']], on=['Season', 'TeamID'], how='left') \\\n",
    "    .merge(points[['TeamID', 'Season', 'Points']], on=['Season', 'TeamID'], how='inner') \\\n",
    "    .sort_values('norm_rank')\n",
    "    \n",
    "features = ['Season', 'StreakLen', 'TeamID', 'TeamName', 'norm_rank', 'streak', 'noise', 'Points']\n",
    "x[features].sort_values(['Points', 'Season'], ascending=False)[:10]"
   ]
  },
  {
   "cell_type": "code",
   "execution_count": 4,
   "metadata": {
    "collapsed": false
   },
   "outputs": [],
   "source": [
    "regr = AdaBoostRegressor(DecisionTreeRegressor(max_depth=6), n_estimators=500)\n",
    "\n",
    "X = x[['norm_rank', 'streak']]\n",
    "y = x['Points']\n",
    "\n",
    "regr.fit(X, y)\n",
    "\n",
    "pred_y = regr.predict(X)\n"
   ]
  },
  {
   "cell_type": "code",
   "execution_count": 7,
   "metadata": {
    "collapsed": false
   },
   "outputs": [
    {
     "data": {
      "image/png": "[encoded data removed]",
      "text/plain": [
       "<matplotlib.figure.Figure at 0x112e5df50>"
      ]
     },
     "metadata": {},
     "output_type": "display_data"
    }
   ],
   "source": [
    "plt.figure()\n",
    "px, py = zip(*sorted(zip(X['norm_rank'], y)))\n",
    "plt.scatter(px, py, c=\"k\", label=\"training samples\")\n",
    "px, py_1 = zip(*sorted(zip(X['norm_rank'], pred_y)))\n",
    "plt.plot(px, py_1, c=\"r\", label=\"n_estimators=500\", linewidth=2)\n",
    "plt.xlabel(\"data\")\n",
    "plt.ylabel(\"target\")\n",
    "plt.title(\"Boosted Decision Tree Regression\")\n",
    "plt.legend()\n",
    "plt.show()"
   ]
  },
  {
   "cell_type": "code",
   "execution_count": 8,
   "metadata": {
    "collapsed": false
   },
   "outputs": [
    {
     "data": {
      "image/png": "[encoded data removed]",
      "text/plain": [
       "<matplotlib.figure.Figure at 0x112ec9ed0>"
      ]
     },
     "metadata": {},
     "output_type": "display_data"
    }
   ],
   "source": [
    "plt.figure()\n",
    "px, py = zip(*sorted(zip(X['streak'], y)))\n",
    "plt.scatter(px, py, c=\"k\", label=\"training samples\")\n",
    "px, py_1 = zip(*sorted(zip(X['streak'], pred_y)))\n",
    "plt.plot(px, py_1, c=\"r\", label=\"n_estimators=500\", linewidth=2)\n",
    "plt.xlabel(\"data\")\n",
    "plt.ylabel(\"target\")\n",
    "plt.title(\"Boosted Decision Tree Regression\")\n",
    "plt.legend()\n",
    "plt.show()"
   ]
  },
  {
   "cell_type": "code",
   "execution_count": 13,
   "metadata": {
    "collapsed": false
   },
   "outputs": [
    {
     "data": {
      "text/plain": [
       "0.945807619722384"
      ]
     },
     "execution_count": 13,
     "metadata": {},
     "output_type": "execute_result"
    }
   ],
   "source": []
  },
  {
   "cell_type": "code",
   "execution_count": 36,
   "metadata": {
    "collapsed": false
   },
   "outputs": [],
   "source": [
    "alpha = 0.5\n",
    "beta = 0.05\n",
    "\n",
    "for season in range(2010, 2017+1):\n",
    "    for i in range(20):\n",
    "        w = streak[(streak['Season'] == season) & (streak['StreakLen'] == 6)] \\\n",
    "            .merge(polls[['TeamID', 'Season', 'norm_rank', 'noise']], on=['Season', 'TeamID'], how='left') \\\n",
    "            .sort_values('norm_rank')\n",
    "\n",
    "        w['combined_rank'] = w['norm_rank'] - alpha*w['streak'] + beta*(numpy.random.random(w.shape[0]) - 0.5)\n",
    "        w[['TeamID', 'combined_rank']]\n",
    "\n",
    "        bracket_file_name = 'bracket.combined.{}.{}.csv'.format(season, i)\n",
    "\n",
    "        w[['TeamID', 'combined_rank']].to_csv(bracket_file_name, header=False, sep=' ', index=False)"
   ]
  }
 ],
 "metadata": {
  "kernelspec": {
   "display_name": "Python 2",
   "language": "python",
   "name": "python2"
  },
  "language_info": {
   "codemirror_mode": {
    "name": "ipython",
    "version": 2
   },
   "file_extension": ".py",
   "mimetype": "text/x-python",
   "name": "python",
   "nbconvert_exporter": "python",
   "pygments_lexer": "ipython2",
   "version": "2.7.11"
  }
 },
 "nbformat": 4,
 "nbformat_minor": 0
}
