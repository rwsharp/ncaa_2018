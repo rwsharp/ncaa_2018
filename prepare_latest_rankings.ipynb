{
 "cells": [
  {
   "cell_type": "code",
   "execution_count": 1,
   "metadata": {
    "collapsed": true
   },
   "outputs": [],
   "source": [
    "import os\n",
    "import pandas"
   ]
  },
  {
   "cell_type": "code",
   "execution_count": 2,
   "metadata": {
    "collapsed": false
   },
   "outputs": [],
   "source": [
    "#input_file_name = 'data/massey_2018/rankings_through_20180304.csv'\n",
    "input_file_name = 'data/massey_2018/rankings_through_20180311.csv'\n",
    "\n",
    "chunks = list()\n",
    "current_chunk = list()\n",
    "\n",
    "with open(input_file_name, 'r') as input_file:\n",
    "    for line in input_file:\n",
    "        if line.strip() == '':\n",
    "            chunks.append(current_chunk)\n",
    "            current_chunk = list()\n",
    "        else:\n",
    "            current_chunk.append(line.strip())\n",
    "        \n",
    "chunks.append(current_chunk)"
   ]
  },
  {
   "cell_type": "code",
   "execution_count": 5,
   "metadata": {
    "collapsed": false
   },
   "outputs": [],
   "source": [
    "# chunk 0 = metadata\n",
    "# chunk 1 = blank\n",
    "# chunk 2 = ranker list\n",
    "# chunk 3 = rankings header\n",
    "# chunk 4 = rankings\n",
    "\n",
    "#output_file_name = 'data/massey_2018/rankings_through_20180304.clean.csv'\n",
    "output_file_name = 'data/massey_2018/rankings_through_20180311.clean.csv'\n",
    "\n",
    "with open(output_file_name, 'w') as output_file:\n",
    "    for line in chunks[3]:\n",
    "        data = map(lambda s: s.strip(), line.split(','))\n",
    "        print >> output_file, ','.join(data)\n",
    "\n",
    "    for line in chunks[4]:\n",
    "        data = map(lambda s: s.strip(), line.split(','))\n",
    "        print >> output_file, ','.join(data)\n",
    "    \n",
    "#df = pandas.read_csv(output_file_name).drop('Unnamed: 74', axis=1)\n",
    "df = pandas.read_csv(output_file_name).drop('Unnamed: 75', axis=1)"
   ]
  },
  {
   "cell_type": "code",
   "execution_count": 6,
   "metadata": {
    "collapsed": false
   },
   "outputs": [],
   "source": [
    "# For missing ranks, use the median of all other rankers\n",
    "# This happens, e.g., for rankers that only rank the top 25 or in other rare cases\n",
    "# The median rank is helpfully provided in the data already\n",
    "basic_cols = ['Team', 'Conf', 'WL', 'Rank', 'Mean', 'Trimmed', 'Median', 'StDev']\n",
    "ranker_cols = list(set(df.columns) - set(basic_cols))\n",
    "\n",
    "for ranker in ranker_cols:\n",
    "    df[ranker] = df[ranker].fillna(df['Median'])"
   ]
  },
  {
   "cell_type": "code",
   "execution_count": 8,
   "metadata": {
    "collapsed": false
   },
   "outputs": [],
   "source": [
    "df.to_csv(output_file_name)"
   ]
  },
  {
   "cell_type": "code",
   "execution_count": null,
   "metadata": {
    "collapsed": true
   },
   "outputs": [],
   "source": []
  },
  {
   "cell_type": "code",
   "execution_count": null,
   "metadata": {
    "collapsed": true
   },
   "outputs": [],
   "source": []
  }
 ],
 "metadata": {
  "kernelspec": {
   "display_name": "Python 2",
   "language": "python",
   "name": "python2"
  },
  "language_info": {
   "codemirror_mode": {
    "name": "ipython",
    "version": 2
   },
   "file_extension": ".py",
   "mimetype": "text/x-python",
   "name": "python",
   "nbconvert_exporter": "python",
   "pygments_lexer": "ipython2",
   "version": "2.7.11"
  }
 },
 "nbformat": 4,
 "nbformat_minor": 0
}
