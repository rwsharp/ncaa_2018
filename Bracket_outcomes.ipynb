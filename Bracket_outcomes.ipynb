{
 "cells": [
  {
   "cell_type": "code",
   "execution_count": 1,
   "metadata": {
    "collapsed": false
   },
   "outputs": [
    {
     "name": "stderr",
     "output_type": "stream",
     "text": [
      "/Users/rsharp/PROJECTS/rws_project_python/lib/python2.7/site-packages/matplotlib/font_manager.py:273: UserWarning: Matplotlib is building the font cache using fc-list. This may take a moment.\n",
      "  warnings.warn('Matplotlib is building the font cache using fc-list. This may take a moment.')\n"
     ]
    }
   ],
   "source": [
    "%matplotlib inline\n",
    "\n",
    "import os\n",
    "import pandas\n",
    "import numpy\n",
    "import sklearn\n",
    "import matplotlib.pyplot as plt\n",
    "from collections import Counter\n",
    "from sklearn.tree import DecisionTreeRegressor\n",
    "from sklearn.ensemble import AdaBoostRegressor\n"
   ]
  },
  {
   "cell_type": "code",
   "execution_count": 2,
   "metadata": {
    "collapsed": true
   },
   "outputs": [],
   "source": [
    "polls_file_name = 'full_bracket.poll_of_polls.csv'\n",
    "streak_file_name = 'composite_streak_data.csv'\n",
    "\n",
    "polls = pandas.read_csv(polls_file_name, sep='|')\n",
    "streak = pandas.read_csv(streak_file_name, sep='|').drop('Unnamed: 0', axis=1)"
   ]
  },
  {
   "cell_type": "code",
   "execution_count": 3,
   "metadata": {
    "collapsed": true
   },
   "outputs": [],
   "source": [
    "# Brooklyn is missing from the data somehow - so add them in by hand\n",
    "\n",
    "polls = polls.append(pandas.DataFrame({'Season': [2018], \n",
    "                                       'TeamID': [1134], \n",
    "                                       'Team': ['Brooklyn'], \n",
    "                                       'rank': [267],\n",
    "                                       'norm_rank': [5.0],\n",
    "                                       'noise': [0.0]}))\n",
    "for streak_len in [2, 3, 4, 6, 8, 10]:\n",
    "    streak = streak.append(pandas.DataFrame({'Season': [2018], \n",
    "                                             'TeamID': [1134], \n",
    "                                             'TeamName': ['Brooklyn'], \n",
    "                                             'streak': [0.5],\n",
    "                                             'StreakLen': [streak_len]}))\n"
   ]
  },
  {
   "cell_type": "code",
   "execution_count": 4,
   "metadata": {
    "collapsed": true
   },
   "outputs": [],
   "source": [
    "teams = pandas.read_csv('data/kaggle_2018_final/DataFiles/Teams.csv')\n",
    "slots = pandas.read_csv('slots_2018.csv')\n",
    "seeds = pandas.read_csv('seeds_2018.csv')\n"
   ]
  },
  {
   "cell_type": "code",
   "execution_count": 9,
   "metadata": {
    "collapsed": true
   },
   "outputs": [],
   "source": [
    "def round_results(r):\n",
    "    season = 2018\n",
    "    daynum = -1\n",
    "    wloc = 'X'\n",
    "    numot = -1\n",
    "\n",
    "    results = {\n",
    "        'Season': list(),\n",
    "        'DayNum': list(),\n",
    "        'WTeamID': list(),\n",
    "        'WScore': list(),\n",
    "        'LTeamID': list(),\n",
    "        'LScore': list(),\n",
    "        'WLoc': list(),\n",
    "        'NumOT': list(),\n",
    "        'minID': list(),\n",
    "        'maxID': list()\n",
    "    }\n",
    "    \n",
    "    for idx, row in r.iterrows():\n",
    "        \n",
    "        sid = row['StrongTeamID']\n",
    "        wid = row['WeakTeamID']\n",
    "\n",
    "        #print sid, wid, all([~numpy.isnan(sid), ~numpy.isnan(wid)]), row['StrongTeamRank'] > row['WeakTeamRank']\n",
    "\n",
    "        if all([~numpy.isnan(sid), ~numpy.isnan(wid)]):    \n",
    "            minid = min(sid, wid)\n",
    "            maxid = max(sid, wid)\n",
    "            \n",
    "            # Play-in results:\n",
    "            if (minid, maxid) == (1382, 1417):\n",
    "                # UCLA: 1417 (58), St Bonaventure: 1382 (65)\n",
    "                win_id  = 1382\n",
    "                loss_id = 1417\n",
    "                win_sc  = 65\n",
    "                loss_sc = 58\n",
    "            elif (minid, maxid) == (1134, 1347):\n",
    "                # Radford: 1347 (71), Brooklyn: 1134 (61)\n",
    "                win_id  = 1347\n",
    "                loss_id = 1134\n",
    "                win_sc  = 71\n",
    "                loss_sc = 61\n",
    "            elif (minid, maxid) == (1300, 1411):\n",
    "                # TX Southern: 1411 (64), NC Central: 1300 (46)\n",
    "                win_id  = 1411\n",
    "                loss_id = 1300\n",
    "                win_sc  = 64\n",
    "                loss_sc = 46\n",
    "            elif (minid, maxid) == (1113, 1393):\n",
    "                # Arizona St: 1113 (56), Syracuse: 1393 (60) \n",
    "                win_id  = 1393\n",
    "                loss_id = 1113\n",
    "                win_sc  = 60\n",
    "                loss_sc = 56\n",
    "            elif row['StrongTeamRank'] <= row['WeakTeamRank']:\n",
    "                # Strong seed is higher ranked and wins\n",
    "                win_id = sid\n",
    "                loss_id = wid\n",
    "                win_sc = 1\n",
    "                loss_sc = 0\n",
    "            else:\n",
    "                # Week seed is higher ranked and wins\n",
    "                win_id = wid\n",
    "                loss_id = sid\n",
    "                win_sc = 1\n",
    "                loss_sc = 0\n",
    "\n",
    "            results['Season'].append(season)\n",
    "            results['DayNum'].append(daynum)\n",
    "            results['WTeamID'].append(win_id)\n",
    "            results['WScore'].append(win_sc)\n",
    "            results['LTeamID'].append(loss_id)\n",
    "            results['LScore'].append(loss_sc)\n",
    "            results['WLoc'].append(wloc)\n",
    "            results['NumOT'].append(numot)\n",
    "            results['minID'].append(minid)\n",
    "            results['maxID'].append(maxid)\n",
    "\n",
    "    results = pandas.DataFrame(results)\n",
    "    \n",
    "    return results"
   ]
  },
  {
   "cell_type": "code",
   "execution_count": null,
   "metadata": {
    "collapsed": true
   },
   "outputs": [],
   "source": [
    "scenarios_select = [\n",
    "    # Deterministic scenarios\n",
    "    {'alpha':  0.0, 'beta': 0.00, 'streak': None, 'model': 'p',                   'output': 'data/brackets/bracket_pp'},\n",
    "    {'alpha': -0.1, 'beta': 0.00, 'streak':  6,   'model': 'a',                   'output': 'data/brackets/bracket_a01_b00_s06'},\n",
    "    {'alpha': -0.1, 'beta': 0.00, 'streak': 10,   'model': 'a', 'penalty': True,  'output': 'data/brackets/bracket_a01_b00_s10_pen'},\n",
    "    {'alpha': -0.2, 'beta': 0.00, 'streak':  6,   'model': 'a',                   'output': 'data/brackets/bracket_a02_b00_s06'},\n",
    "    {'alpha': -0.2, 'beta': 0.00, 'streak': 10,   'model': 'a', 'penalty': True,  'output': 'data/brackets/bracket_a02_b00_s10_pen'},\n",
    "\n",
    "    # Random scenarios\n",
    "    {'alpha':  0.0, 'beta': 0.05, 'streak': None, 'model': 'b',                   'output': 'data/brackets/bracket_a00_b05_sNA'},    \n",
    "    {'alpha':  0.0, 'beta': 0.15, 'streak': None, 'model': 'b',                   'output': 'data/brackets/bracket_a00_b15_sNA'},    \n",
    "    {'alpha': -0.1, 'beta': 0.05, 'streak': 6,    'model': 'ab', 'penalty': True, 'output': 'data/brackets/bracket_a01_b05_s06_pen'},\n",
    "    {'alpha': -0.1, 'beta': 0.05, 'streak': 10,   'model': 'ab', 'penalty': True, 'output': 'data/brackets/bracket_a01_b05_s10_pen'},\n",
    "    {'alpha': -0.1, 'beta': 0.15, 'streak': 6,    'model': 'ab', 'penalty': True, 'output': 'data/brackets/bracket_a01_b15_s06_pen'},\n",
    "    {'alpha': -0.1, 'beta': 0.15, 'streak': 10,   'model': 'ab', 'penalty': True, 'output': 'data/brackets/bracket_a01_b15_s10_pen'},\n",
    "]"
   ]
  },
  {
   "cell_type": "code",
   "execution_count": 38,
   "metadata": {
    "collapsed": false
   },
   "outputs": [],
   "source": [
    "season = 2018\n",
    "bracket_file_name = 'data/brackets/bracket_a01_b15_s10_pen_0003.csv'\n",
    "\n",
    "bracket_data = pandas.read_csv(bracket_file_name, sep='|')\n",
    "\n",
    "final_teams = list()\n",
    "\n",
    "winners = dict([rnd, list()] for rnd in [1, 2, 3, 4, 5, 6])\n",
    "\n",
    "# initialize\n",
    "df = slots.merge(seeds, left_on=['Season', 'StrongSeed'], right_on=['Season', 'Seed'], how='left')\n",
    "df = df.rename(index=str, columns={\"TeamID\": \"StrongTeamID\"}).drop('Seed', axis=1)\n",
    "df = df.merge(seeds, left_on=['Season', 'WeakSeed'], right_on=['Season', 'Seed'], how='left')\n",
    "df = df.rename(index=str, columns={\"TeamID\": \"WeakTeamID\"}).drop('Seed', axis=1)\n",
    "\n",
    "# reduce to the 68 teams in the tourney\n",
    "# teams_68 = map(int, list(df['StrongTeamID']) + list(df['WeakTeamID']))\n",
    "teams_68 = map(int, set([id for id in list(df['StrongTeamID']) + list(df['WeakTeamID']) if not numpy.isnan(id)]))\n",
    "bracket_68 = bracket_data[bracket_data['TeamID'].isin(teams_68)].copy()\n",
    "\n",
    "rnd = 0\n",
    "df = df.merge(bracket_68[['TeamID', 'Rank_{}'.format(rnd)]], left_on='StrongTeamID', right_on='TeamID', how='left')\n",
    "df = df.rename(index=str, columns={\"Rank_{}\".format(rnd): \"StrongTeamRank\"}).drop('TeamID', axis=1)\n",
    "df = df.merge(bracket_68[['TeamID', 'Rank_{}'.format(rnd)]], left_on='WeakTeamID', right_on='TeamID', how='left')\n",
    "df = df.rename(index=str, columns={\"Rank_{}\".format(rnd): \"WeakTeamRank\"}).drop('TeamID', axis=1)\n",
    "\n",
    "# play-in games\n",
    "pi_games = ~(df['Slot'].str.contains('R')) & (df['Season'] == season)\n",
    "pi = df[pi_games]\n",
    "\n",
    "pi.loc[pi_games, 'minID'] = pi[['StrongTeamID', 'WeakTeamID']].min(axis=1)\n",
    "pi.loc[pi_games, 'maxID'] = pi[['StrongTeamID', 'WeakTeamID']].max(axis=1)\n",
    "\n",
    "results = round_results(pi)\n",
    "\n",
    "pi = pi.merge(results, on=['Season', 'minID', 'maxID'], how='left')\n",
    "\n",
    "pi = pi.merge(teams[['TeamID', 'TeamName']], left_on=['StrongTeamID'], right_on=['TeamID'], how='left')\n",
    "pi = pi.rename(index=str, columns={\"TeamName\": \"StrongTeamName\"}).drop('TeamID', axis=1)\n",
    "pi = pi.merge(teams[['TeamID', 'TeamName']], left_on=['WeakTeamID'], right_on=['TeamID'], how='left')\n",
    "pi = pi.rename(index=str, columns={\"TeamName\": \"WeakTeamName\"}).drop('TeamID', axis=1)\n",
    "pi = pi.merge(teams[['TeamID', 'TeamName']], left_on=['WTeamID'], right_on=['TeamID'], how='left')\n",
    "pi = pi.rename(index=str, columns={\"TeamName\": \"WTeamName\"}).drop('TeamID', axis=1)\n",
    "pi = pi.merge(teams[['TeamID', 'TeamName']], left_on=['LTeamID'], right_on=['TeamID'], how='left')\n",
    "pi = pi.rename(index=str, columns={\"TeamName\": \"LTeamName\"}).drop('TeamID', axis=1)\n",
    "\n",
    "# regular rounds\n",
    "rounds = [pi]\n",
    "\n",
    "for rnd in range(1, 6 + 1):\n",
    "    last_rnd = rounds[-1]\n",
    "\n",
    "    r_games = (df['Slot'].str.contains('R{}..'.format(rnd))) & (df['Season'] == season)\n",
    "    r = df[r_games]\n",
    "\n",
    "    r = r.merge(last_rnd[['Slot', 'WTeamID']], left_on='StrongSeed', right_on='Slot', how='left', suffixes=['', '__'])\n",
    "    r.loc[r['StrongTeamID'].isnull(), 'StrongTeamID'] = r['WTeamID']\n",
    "    r = r.drop(['Slot__', 'WTeamID'], axis=1)\n",
    "\n",
    "    r = r.merge(last_rnd[['Slot', 'WTeamID']], left_on='WeakSeed', right_on='Slot', how='left', suffixes=['', '__'])\n",
    "    r.loc[r['WeakTeamID'].isnull(), 'WeakTeamID'] = r['WTeamID']\n",
    "    r = r.drop(['Slot__', 'WTeamID'], axis=1)\n",
    "\n",
    "    r['minID'] = r[['StrongTeamID', 'WeakTeamID']].min(axis=1)\n",
    "    r['maxID'] = r[['StrongTeamID', 'WeakTeamID']].max(axis=1)\n",
    "\n",
    "    # make sure to use the ranking for the correct round #\n",
    "    r['StrongTeamRank'] = r.merge(bracket_68[['TeamID', 'Rank_{}'.format(rnd)]], left_on='StrongTeamID', right_on='TeamID', how='left')['Rank_{}'.format(rnd)]\n",
    "    r['WeakTeamRank'] = r.merge(bracket_68[['TeamID', 'Rank_{}'.format(rnd)]], left_on='WeakTeamID', right_on='TeamID', how='left')['Rank_{}'.format(rnd)]\n",
    "\n",
    "    results = round_results(r)\n",
    "\n",
    "    r = r.merge(results, on=['Season', 'minID', 'maxID'], how='left')\n",
    "\n",
    "    r = r.merge(teams[['TeamID', 'TeamName']], left_on=['StrongTeamID'], right_on=['TeamID'], how='left')\n",
    "    r = r.rename(index=str, columns={\"TeamName\": \"StrongTeamName\"}).drop('TeamID', axis=1)\n",
    "    r = r.merge(teams[['TeamID', 'TeamName']], left_on=['WeakTeamID'], right_on=['TeamID'], how='left')\n",
    "    r = r.rename(index=str, columns={\"TeamName\": \"WeakTeamName\"}).drop('TeamID', axis=1)\n",
    "    r = r.merge(teams[['TeamID', 'TeamName']], left_on=['WTeamID'], right_on=['TeamID'], how='left')\n",
    "    r = r.rename(index=str, columns={\"TeamName\": \"WTeamName\"}).drop('TeamID', axis=1)\n",
    "    r = r.merge(teams[['TeamID', 'TeamName']], left_on=['LTeamID'], right_on=['TeamID'], how='left')\n",
    "    r = r.rename(index=str, columns={\"TeamName\": \"LTeamName\"}).drop('TeamID', axis=1)\n",
    "\n",
    "    winners[rnd].append(list(r['WTeamName']))\n",
    "\n",
    "    rounds.append(r.copy())\n",
    "\n",
    "\n"
   ]
  },
  {
   "cell_type": "code",
   "execution_count": 39,
   "metadata": {
    "collapsed": false
   },
   "outputs": [
    {
     "name": "stdout",
     "output_type": "stream",
     "text": [
      "  0\tTX Southern         \tNC Central          \n",
      "  0\tSt Bonaventure      \tUCLA                \n",
      "  0\tRadford             \tBrooklyn            \n",
      "  0\tSyracuse            \tArizona St          \n",
      "  1\tXavier              \tTX Southern         \n",
      "  1\tNorth Carolina      \tLipscomb            \n",
      "  1\tMichigan            \tMontana             \n",
      "  1\tGonzaga             \tUNC Greensboro      \n",
      "  1\tOhio St             \tS Dakota St         \n",
      "  1\tHouston             \tSan Diego St        \n",
      "  1\tTexas A&M           \tProvidence          \n",
      "  1\tFlorida St          \tMissouri            \n",
      "  1\tVirginia            \tUMBC                \n",
      "  1\tCincinnati          \tGeorgia St          \n",
      "  1\tTennessee           \tWright St           \n",
      "  1\tArizona             \tBuffalo             \n",
      "  1\tKentucky            \tDavidson            \n",
      "  1\tMiami FL            \tLoyola-Chicago      \n",
      "  1\tTexas               \tNevada              \n",
      "  1\tCreighton           \tKansas St           \n",
      "  1\tVillanova           \tRadford             \n",
      "  1\tPurdue              \tCS Fullerton        \n",
      "  1\tTexas Tech          \tSF Austin           \n",
      "  1\tWichita St          \tMarshall            \n",
      "  1\tWest Virginia       \tMurray St           \n",
      "  1\tFlorida             \tSt Bonaventure      \n",
      "  1\tArkansas            \tButler              \n",
      "  1\tVirginia Tech       \tAlabama             \n",
      "  1\tKansas              \tPenn                \n",
      "  1\tDuke                \tIona                \n",
      "  1\tMichigan St         \tBucknell            \n",
      "  1\tAuburn              \tCol Charleston      \n",
      "  1\tClemson             \tNew Mexico St       \n",
      "  1\tTCU                 \tSyracuse            \n",
      "  1\tRhode Island        \tOklahoma            \n",
      "  1\tSeton Hall          \tNC State            \n",
      "  2\tXavier              \tFlorida St          \n",
      "  2\tNorth Carolina      \tTexas A&M           \n",
      "  2\tMichigan            \tHouston             \n",
      "  2\tGonzaga             \tOhio St             \n",
      "  2\tVirginia            \tCreighton           \n",
      "  2\tCincinnati          \tTexas               \n",
      "  2\tTennessee           \tMiami FL            \n",
      "  2\tKentucky            \tArizona             \n",
      "  2\tVillanova           \tVirginia Tech       \n",
      "  2\tPurdue              \tArkansas            \n",
      "  2\tTexas Tech          \tFlorida             \n",
      "  2\tWest Virginia       \tWichita St          \n",
      "  2\tKansas              \tSeton Hall          \n",
      "  2\tDuke                \tRhode Island        \n",
      "  2\tMichigan St         \tTCU                 \n",
      "  2\tAuburn              \tClemson             \n",
      "  3\tXavier              \tGonzaga             \n",
      "  3\tMichigan            \tNorth Carolina      \n",
      "  3\tVirginia            \tKentucky            \n",
      "  3\tCincinnati          \tTennessee           \n",
      "  3\tVillanova           \tWest Virginia       \n",
      "  3\tPurdue              \tTexas Tech          \n",
      "  3\tKansas              \tAuburn              \n",
      "  3\tMichigan St         \tDuke                \n",
      "  4\tXavier              \tMichigan            \n",
      "  4\tCincinnati          \tVirginia            \n",
      "  4\tVillanova           \tPurdue              \n",
      "  4\tMichigan St         \tKansas              \n",
      "  5\tCincinnati          \tXavier              \n",
      "  5\tVillanova           \tMichigan St         \n",
      "  6\tCincinnati          \tVillanova           \n"
     ]
    }
   ],
   "source": [
    "for rnd in [0, 1, 2, 3, 4, 5, 6]:\n",
    "    for idx, row in rounds[rnd][['WTeamName', 'LTeamName']].iterrows():\n",
    "        print '{:3}\\t{:20}\\t{:20}'.format(rnd,row['WTeamName'], row['LTeamName'])\n"
   ]
  },
  {
   "cell_type": "code",
   "execution_count": 14,
   "metadata": {
    "collapsed": false
   },
   "outputs": [
    {
     "data": {
      "text/plain": [
       "[['Cincinnati', 'Villanova']]"
      ]
     },
     "execution_count": 14,
     "metadata": {},
     "output_type": "execute_result"
    }
   ],
   "source": [
    "winners[5]"
   ]
  },
  {
   "cell_type": "code",
   "execution_count": null,
   "metadata": {
    "collapsed": true
   },
   "outputs": [],
   "source": []
  }
 ],
 "metadata": {
  "kernelspec": {
   "display_name": "Python 2",
   "language": "python",
   "name": "python2"
  },
  "language_info": {
   "codemirror_mode": {
    "name": "ipython",
    "version": 2
   },
   "file_extension": ".py",
   "mimetype": "text/x-python",
   "name": "python",
   "nbconvert_exporter": "python",
   "pygments_lexer": "ipython2",
   "version": "2.7.11"
  }
 },
 "nbformat": 4,
 "nbformat_minor": 0
}
