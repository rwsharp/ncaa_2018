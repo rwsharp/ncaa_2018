{
 "cells": [
  {
   "cell_type": "code",
   "execution_count": 29,
   "metadata": {
    "collapsed": false
   },
   "outputs": [
    {
     "name": "stderr",
     "output_type": "stream",
     "text": [
      "/Users/rsharp/PROJECTS/rws_project_python/lib/python2.7/site-packages/matplotlib/font_manager.py:273: UserWarning: Matplotlib is building the font cache using fc-list. This may take a moment.\n",
      "  warnings.warn('Matplotlib is building the font cache using fc-list. This may take a moment.')\n"
     ]
    }
   ],
   "source": [
    "%matplotlib inline\n",
    "\n",
    "import numpy\n",
    "import matplotlib.pyplot as plt\n",
    "import pandas\n",
    "import os"
   ]
  },
  {
   "cell_type": "code",
   "execution_count": 2,
   "metadata": {
    "collapsed": false
   },
   "outputs": [],
   "source": [
    "root_path = 'data/kaggle_2018/DataFiles'\n",
    "\n",
    "teams = pandas.read_csv(os.path.join(root_path, 'Teams.csv'))\n",
    "slots = pandas.read_csv(os.path.join(root_path, 'NCAATourneySlots.csv'))\n",
    "seeds = pandas.read_csv(os.path.join(root_path, 'NCAATourneySeeds.csv'))\n",
    "results = pandas.read_csv(os.path.join(root_path, 'NCAATourneyCompactResults.csv'))"
   ]
  },
  {
   "cell_type": "code",
   "execution_count": 3,
   "metadata": {
    "collapsed": false
   },
   "outputs": [],
   "source": [
    "results['minID'] = results[['WTeamID', 'LTeamID']].min(axis=1)\n",
    "results['maxID'] = results[['WTeamID', 'LTeamID']].max(axis=1)"
   ]
  },
  {
   "cell_type": "code",
   "execution_count": 4,
   "metadata": {
    "collapsed": false
   },
   "outputs": [
    {
     "data": {
      "text/html": [
       "<div>\n",
       "<table border=\"1\" class=\"dataframe\">\n",
       "  <thead>\n",
       "    <tr style=\"text-align: right;\">\n",
       "      <th></th>\n",
       "      <th>Season</th>\n",
       "      <th>Slot</th>\n",
       "      <th>StrongSeed</th>\n",
       "      <th>WeakSeed</th>\n",
       "      <th>StrongTeamID</th>\n",
       "      <th>WeakTeamID</th>\n",
       "    </tr>\n",
       "  </thead>\n",
       "  <tbody>\n",
       "    <tr>\n",
       "      <th>1715</th>\n",
       "      <td>2012</td>\n",
       "      <td>R1W1</td>\n",
       "      <td>W01</td>\n",
       "      <td>W16</td>\n",
       "      <td>1393.0</td>\n",
       "      <td>1421.0</td>\n",
       "    </tr>\n",
       "    <tr>\n",
       "      <th>1716</th>\n",
       "      <td>2012</td>\n",
       "      <td>R1W2</td>\n",
       "      <td>W02</td>\n",
       "      <td>W15</td>\n",
       "      <td>1326.0</td>\n",
       "      <td>1259.0</td>\n",
       "    </tr>\n",
       "    <tr>\n",
       "      <th>1717</th>\n",
       "      <td>2012</td>\n",
       "      <td>R1W3</td>\n",
       "      <td>W03</td>\n",
       "      <td>W14</td>\n",
       "      <td>1199.0</td>\n",
       "      <td>1382.0</td>\n",
       "    </tr>\n",
       "    <tr>\n",
       "      <th>1718</th>\n",
       "      <td>2012</td>\n",
       "      <td>R1W4</td>\n",
       "      <td>W04</td>\n",
       "      <td>W13</td>\n",
       "      <td>1458.0</td>\n",
       "      <td>1285.0</td>\n",
       "    </tr>\n",
       "    <tr>\n",
       "      <th>1719</th>\n",
       "      <td>2012</td>\n",
       "      <td>R1W5</td>\n",
       "      <td>W05</td>\n",
       "      <td>W12</td>\n",
       "      <td>1435.0</td>\n",
       "      <td>1217.0</td>\n",
       "    </tr>\n",
       "  </tbody>\n",
       "</table>\n",
       "</div>"
      ],
      "text/plain": [
       "      Season  Slot StrongSeed WeakSeed  StrongTeamID  WeakTeamID\n",
       "1715    2012  R1W1        W01      W16        1393.0      1421.0\n",
       "1716    2012  R1W2        W02      W15        1326.0      1259.0\n",
       "1717    2012  R1W3        W03      W14        1199.0      1382.0\n",
       "1718    2012  R1W4        W04      W13        1458.0      1285.0\n",
       "1719    2012  R1W5        W05      W12        1435.0      1217.0"
      ]
     },
     "execution_count": 4,
     "metadata": {},
     "output_type": "execute_result"
    }
   ],
   "source": [
    "# initialize\n",
    "season = 2012\n",
    "\n",
    "df = slots.merge(seeds, left_on=['Season', 'StrongSeed'], right_on=['Season', 'Seed'], how='left')\n",
    "df = df.rename(index=str, columns={\"TeamID\": \"StrongTeamID\"}).drop('Seed', axis=1)\n",
    "df = df.merge(seeds, left_on=['Season', 'WeakSeed'], right_on=['Season', 'Seed'], how='left')\n",
    "df = df.rename(index=str, columns={\"TeamID\": \"WeakTeamID\"}).drop('Seed', axis=1)\n",
    "\n",
    "df[df['Season'] == season][:5]"
   ]
  },
  {
   "cell_type": "code",
   "execution_count": 5,
   "metadata": {
    "collapsed": false
   },
   "outputs": [
    {
     "name": "stderr",
     "output_type": "stream",
     "text": [
      "/Users/rsharp/PROJECTS/rws_project_python/lib/python2.7/site-packages/pandas/core/indexing.py:288: SettingWithCopyWarning: \n",
      "A value is trying to be set on a copy of a slice from a DataFrame.\n",
      "Try using .loc[row_indexer,col_indexer] = value instead\n",
      "\n",
      "See the caveats in the documentation: http://pandas.pydata.org/pandas-docs/stable/indexing.html#indexing-view-versus-copy\n",
      "  self.obj[key] = _infer_fill_value(value)\n",
      "/Users/rsharp/PROJECTS/rws_project_python/lib/python2.7/site-packages/pandas/core/indexing.py:465: SettingWithCopyWarning: \n",
      "A value is trying to be set on a copy of a slice from a DataFrame.\n",
      "Try using .loc[row_indexer,col_indexer] = value instead\n",
      "\n",
      "See the caveats in the documentation: http://pandas.pydata.org/pandas-docs/stable/indexing.html#indexing-view-versus-copy\n",
      "  self.obj[item] = s\n"
     ]
    },
    {
     "data": {
      "text/html": [
       "<div>\n",
       "<table border=\"1\" class=\"dataframe\">\n",
       "  <thead>\n",
       "    <tr style=\"text-align: right;\">\n",
       "      <th></th>\n",
       "      <th>Season</th>\n",
       "      <th>Slot</th>\n",
       "      <th>StrongSeed</th>\n",
       "      <th>WeakSeed</th>\n",
       "      <th>StrongTeamID</th>\n",
       "      <th>WeakTeamID</th>\n",
       "      <th>minID</th>\n",
       "      <th>maxID</th>\n",
       "      <th>DayNum</th>\n",
       "      <th>WTeamID</th>\n",
       "      <th>WScore</th>\n",
       "      <th>LTeamID</th>\n",
       "      <th>LScore</th>\n",
       "      <th>WLoc</th>\n",
       "      <th>NumOT</th>\n",
       "      <th>StrongTeamName</th>\n",
       "      <th>WeakTeamName</th>\n",
       "      <th>WTeamName</th>\n",
       "      <th>LTeamName</th>\n",
       "    </tr>\n",
       "  </thead>\n",
       "  <tbody>\n",
       "    <tr>\n",
       "      <th>0</th>\n",
       "      <td>2012</td>\n",
       "      <td>X12</td>\n",
       "      <td>X12a</td>\n",
       "      <td>X12b</td>\n",
       "      <td>1143.0</td>\n",
       "      <td>1378.0</td>\n",
       "      <td>1143.0</td>\n",
       "      <td>1378.0</td>\n",
       "      <td>135</td>\n",
       "      <td>1378</td>\n",
       "      <td>65</td>\n",
       "      <td>1143</td>\n",
       "      <td>54</td>\n",
       "      <td>N</td>\n",
       "      <td>0</td>\n",
       "      <td>California</td>\n",
       "      <td>South Florida</td>\n",
       "      <td>South Florida</td>\n",
       "      <td>California</td>\n",
       "    </tr>\n",
       "    <tr>\n",
       "      <th>1</th>\n",
       "      <td>2012</td>\n",
       "      <td>X16</td>\n",
       "      <td>X16a</td>\n",
       "      <td>X16b</td>\n",
       "      <td>1249.0</td>\n",
       "      <td>1436.0</td>\n",
       "      <td>1249.0</td>\n",
       "      <td>1436.0</td>\n",
       "      <td>135</td>\n",
       "      <td>1436</td>\n",
       "      <td>71</td>\n",
       "      <td>1249</td>\n",
       "      <td>59</td>\n",
       "      <td>N</td>\n",
       "      <td>0</td>\n",
       "      <td>Lamar</td>\n",
       "      <td>Vermont</td>\n",
       "      <td>Vermont</td>\n",
       "      <td>Lamar</td>\n",
       "    </tr>\n",
       "    <tr>\n",
       "      <th>2</th>\n",
       "      <td>2012</td>\n",
       "      <td>Y16</td>\n",
       "      <td>Y16a</td>\n",
       "      <td>Y16b</td>\n",
       "      <td>1290.0</td>\n",
       "      <td>1443.0</td>\n",
       "      <td>1290.0</td>\n",
       "      <td>1443.0</td>\n",
       "      <td>134</td>\n",
       "      <td>1443</td>\n",
       "      <td>59</td>\n",
       "      <td>1290</td>\n",
       "      <td>58</td>\n",
       "      <td>N</td>\n",
       "      <td>0</td>\n",
       "      <td>MS Valley St</td>\n",
       "      <td>WKU</td>\n",
       "      <td>WKU</td>\n",
       "      <td>MS Valley St</td>\n",
       "    </tr>\n",
       "    <tr>\n",
       "      <th>3</th>\n",
       "      <td>2012</td>\n",
       "      <td>Z14</td>\n",
       "      <td>Z14a</td>\n",
       "      <td>Z14b</td>\n",
       "      <td>1140.0</td>\n",
       "      <td>1233.0</td>\n",
       "      <td>1140.0</td>\n",
       "      <td>1233.0</td>\n",
       "      <td>134</td>\n",
       "      <td>1140</td>\n",
       "      <td>78</td>\n",
       "      <td>1233</td>\n",
       "      <td>72</td>\n",
       "      <td>N</td>\n",
       "      <td>0</td>\n",
       "      <td>BYU</td>\n",
       "      <td>Iona</td>\n",
       "      <td>BYU</td>\n",
       "      <td>Iona</td>\n",
       "    </tr>\n",
       "  </tbody>\n",
       "</table>\n",
       "</div>"
      ],
      "text/plain": [
       "   Season Slot StrongSeed WeakSeed  StrongTeamID  WeakTeamID   minID   maxID  \\\n",
       "0    2012  X12       X12a     X12b        1143.0      1378.0  1143.0  1378.0   \n",
       "1    2012  X16       X16a     X16b        1249.0      1436.0  1249.0  1436.0   \n",
       "2    2012  Y16       Y16a     Y16b        1290.0      1443.0  1290.0  1443.0   \n",
       "3    2012  Z14       Z14a     Z14b        1140.0      1233.0  1140.0  1233.0   \n",
       "\n",
       "   DayNum  WTeamID  WScore  LTeamID  LScore WLoc  NumOT StrongTeamName  \\\n",
       "0     135     1378      65     1143      54    N      0     California   \n",
       "1     135     1436      71     1249      59    N      0          Lamar   \n",
       "2     134     1443      59     1290      58    N      0   MS Valley St   \n",
       "3     134     1140      78     1233      72    N      0            BYU   \n",
       "\n",
       "    WeakTeamName      WTeamName     LTeamName  \n",
       "0  South Florida  South Florida    California  \n",
       "1        Vermont        Vermont         Lamar  \n",
       "2            WKU            WKU  MS Valley St  \n",
       "3           Iona            BYU          Iona  "
      ]
     },
     "execution_count": 5,
     "metadata": {},
     "output_type": "execute_result"
    }
   ],
   "source": [
    "# play-in games\n",
    "pi_games = ~(df['Slot'].str.contains('R')) & (df['Season'] == season)\n",
    "pi = df[pi_games]\n",
    "\n",
    "pi.loc[pi_games, 'minID'] = pi[['StrongTeamID', 'WeakTeamID']].min(axis=1)\n",
    "pi.loc[pi_games, 'maxID'] = pi[['StrongTeamID', 'WeakTeamID']].max(axis=1)\n",
    "\n",
    "pi = pi.merge(results, on=['Season', 'minID', 'maxID'], how='left')\n",
    "\n",
    "pi = pi.merge(teams[['TeamID', 'TeamName']], left_on=['StrongTeamID'], right_on=['TeamID'], how='left')\n",
    "pi = pi.rename(index=str, columns={\"TeamName\": \"StrongTeamName\"}).drop('TeamID', axis=1)\n",
    "pi = pi.merge(teams[['TeamID', 'TeamName']], left_on=['WeakTeamID'], right_on=['TeamID'], how='left')\n",
    "pi = pi.rename(index=str, columns={\"TeamName\": \"WeakTeamName\"}).drop('TeamID', axis=1)\n",
    "pi = pi.merge(teams[['TeamID', 'TeamName']], left_on=['WTeamID'], right_on=['TeamID'], how='left')\n",
    "pi = pi.rename(index=str, columns={\"TeamName\": \"WTeamName\"}).drop('TeamID', axis=1)\n",
    "pi = pi.merge(teams[['TeamID', 'TeamName']], left_on=['LTeamID'], right_on=['TeamID'], how='left')\n",
    "pi = pi.rename(index=str, columns={\"TeamName\": \"LTeamName\"}).drop('TeamID', axis=1)\n",
    "\n",
    "pi"
   ]
  },
  {
   "cell_type": "code",
   "execution_count": 6,
   "metadata": {
    "collapsed": false
   },
   "outputs": [
    {
     "data": {
      "text/html": [
       "<div>\n",
       "<table border=\"1\" class=\"dataframe\">\n",
       "  <thead>\n",
       "    <tr style=\"text-align: right;\">\n",
       "      <th></th>\n",
       "      <th>Season</th>\n",
       "      <th>Slot</th>\n",
       "      <th>StrongSeed</th>\n",
       "      <th>WeakSeed</th>\n",
       "      <th>StrongTeamID</th>\n",
       "      <th>WeakTeamID</th>\n",
       "      <th>minID</th>\n",
       "      <th>maxID</th>\n",
       "      <th>DayNum</th>\n",
       "      <th>WTeamID</th>\n",
       "      <th>WScore</th>\n",
       "      <th>LTeamID</th>\n",
       "      <th>LScore</th>\n",
       "      <th>WLoc</th>\n",
       "      <th>NumOT</th>\n",
       "      <th>StrongTeamName</th>\n",
       "      <th>WeakTeamName</th>\n",
       "      <th>WTeamName</th>\n",
       "      <th>LTeamName</th>\n",
       "    </tr>\n",
       "  </thead>\n",
       "  <tbody>\n",
       "    <tr>\n",
       "      <th>0</th>\n",
       "      <td>2012</td>\n",
       "      <td>R6CH</td>\n",
       "      <td>R5WX</td>\n",
       "      <td>R5YZ</td>\n",
       "      <td>1242</td>\n",
       "      <td>1246</td>\n",
       "      <td>1242</td>\n",
       "      <td>1246</td>\n",
       "      <td>154</td>\n",
       "      <td>1246</td>\n",
       "      <td>67</td>\n",
       "      <td>1242</td>\n",
       "      <td>59</td>\n",
       "      <td>N</td>\n",
       "      <td>0</td>\n",
       "      <td>Kansas</td>\n",
       "      <td>Kentucky</td>\n",
       "      <td>Kentucky</td>\n",
       "      <td>Kansas</td>\n",
       "    </tr>\n",
       "  </tbody>\n",
       "</table>\n",
       "</div>"
      ],
      "text/plain": [
       "   Season  Slot StrongSeed WeakSeed  StrongTeamID  WeakTeamID  minID  maxID  \\\n",
       "0    2012  R6CH       R5WX     R5YZ          1242        1246   1242   1246   \n",
       "\n",
       "   DayNum  WTeamID  WScore  LTeamID  LScore WLoc  NumOT StrongTeamName  \\\n",
       "0     154     1246      67     1242      59    N      0         Kansas   \n",
       "\n",
       "  WeakTeamName WTeamName LTeamName  \n",
       "0     Kentucky  Kentucky    Kansas  "
      ]
     },
     "execution_count": 6,
     "metadata": {},
     "output_type": "execute_result"
    }
   ],
   "source": [
    "# regular rounds\n",
    "rounds = [pi]\n",
    "\n",
    "for rnd in range(1, 6 + 1):\n",
    "    last_rnd = rounds[-1]\n",
    "\n",
    "    r_games = (df['Slot'].str.contains('R{}..'.format(rnd))) & (df['Season'] == season)\n",
    "    r = df[r_games]\n",
    "\n",
    "    r = r.merge(last_rnd[['Slot', 'WTeamID']], left_on='StrongSeed', right_on='Slot', how='left', suffixes=['', '__'])\n",
    "    r.loc[r['StrongTeamID'].isnull(), 'StrongTeamID'] = r['WTeamID']\n",
    "    r = r.drop(['Slot__', 'WTeamID'], axis=1)\n",
    "\n",
    "    r = r.merge(last_rnd[['Slot', 'WTeamID']], left_on='WeakSeed', right_on='Slot', how='left', suffixes=['', '__'])\n",
    "    r.loc[r['WeakTeamID'].isnull(), 'WeakTeamID'] = r['WTeamID']\n",
    "    r = r.drop(['Slot__', 'WTeamID'], axis=1)\n",
    "\n",
    "    r['minID'] = r[['StrongTeamID', 'WeakTeamID']].min(axis=1)\n",
    "    r['maxID'] = r[['StrongTeamID', 'WeakTeamID']].max(axis=1)\n",
    "\n",
    "    r = r.merge(results, on=['Season', 'minID', 'maxID'], how='left')\n",
    "\n",
    "    r = r.merge(teams[['TeamID', 'TeamName']], left_on=['StrongTeamID'], right_on=['TeamID'], how='left')\n",
    "    r = r.rename(index=str, columns={\"TeamName\": \"StrongTeamName\"}).drop('TeamID', axis=1)\n",
    "    r = r.merge(teams[['TeamID', 'TeamName']], left_on=['WeakTeamID'], right_on=['TeamID'], how='left')\n",
    "    r = r.rename(index=str, columns={\"TeamName\": \"WeakTeamName\"}).drop('TeamID', axis=1)\n",
    "    r = r.merge(teams[['TeamID', 'TeamName']], left_on=['WTeamID'], right_on=['TeamID'], how='left')\n",
    "    r = r.rename(index=str, columns={\"TeamName\": \"WTeamName\"}).drop('TeamID', axis=1)\n",
    "    r = r.merge(teams[['TeamID', 'TeamName']], left_on=['LTeamID'], right_on=['TeamID'], how='left')\n",
    "    r = r.rename(index=str, columns={\"TeamName\": \"LTeamName\"}).drop('TeamID', axis=1)\n",
    "\n",
    "    rounds.append(r.copy())\n",
    "    \n",
    "r"
   ]
  },
  {
   "cell_type": "code",
   "execution_count": 11,
   "metadata": {
    "collapsed": false
   },
   "outputs": [
    {
     "data": {
      "text/html": [
       "<div>\n",
       "<table border=\"1\" class=\"dataframe\">\n",
       "  <thead>\n",
       "    <tr style=\"text-align: right;\">\n",
       "      <th></th>\n",
       "      <th>TeamID</th>\n",
       "      <th>Rank</th>\n",
       "    </tr>\n",
       "  </thead>\n",
       "  <tbody>\n",
       "    <tr>\n",
       "      <th>0</th>\n",
       "      <td>1246</td>\n",
       "      <td>-0.900104</td>\n",
       "    </tr>\n",
       "    <tr>\n",
       "      <th>1</th>\n",
       "      <td>1314</td>\n",
       "      <td>-0.898374</td>\n",
       "    </tr>\n",
       "    <tr>\n",
       "      <th>2</th>\n",
       "      <td>1281</td>\n",
       "      <td>-0.795778</td>\n",
       "    </tr>\n",
       "    <tr>\n",
       "      <th>3</th>\n",
       "      <td>1393</td>\n",
       "      <td>-0.895778</td>\n",
       "    </tr>\n",
       "    <tr>\n",
       "      <th>4</th>\n",
       "      <td>1242</td>\n",
       "      <td>-0.895778</td>\n",
       "    </tr>\n",
       "  </tbody>\n",
       "</table>\n",
       "</div>"
      ],
      "text/plain": [
       "   TeamID      Rank\n",
       "0    1246 -0.900104\n",
       "1    1314 -0.898374\n",
       "2    1281 -0.795778\n",
       "3    1393 -0.895778\n",
       "4    1242 -0.895778"
      ]
     },
     "execution_count": 11,
     "metadata": {},
     "output_type": "execute_result"
    }
   ],
   "source": []
  },
  {
   "cell_type": "code",
   "execution_count": 12,
   "metadata": {
    "collapsed": false
   },
   "outputs": [],
   "source": []
  },
  {
   "cell_type": "code",
   "execution_count": 53,
   "metadata": {
    "collapsed": false
   },
   "outputs": [
    {
     "data": {
      "text/plain": [
       "110.0"
      ]
     },
     "execution_count": 53,
     "metadata": {},
     "output_type": "execute_result"
    }
   ],
   "source": [
    "scores = list()\n",
    "\n",
    "for season in range(2010, 2017+1):\n",
    "    for i in range(20):\n",
    "        bracket_file_name = 'bracket.combined.{}.{}.csv'.format(season, i)\n",
    "\n",
    "        schema = [\n",
    "            ('TeamID', int),\n",
    "            ('Rank', float)\n",
    "        ]\n",
    "\n",
    "        bracket = pandas.read_csv(bracket_file_name, sep=' ', names=[x[0] for x in schema], dtype=dict(schema))\n",
    "\n",
    "        teams_64 = map(int, list(rounds[1]['StrongTeamID']) + list(rounds[1]['WeakTeamID']))\n",
    "\n",
    "        bracket_64 = bracket[bracket['TeamID'].isin(teams_64)]\n",
    "\n",
    "        weights = {1: 1,\n",
    "                   2: 2,\n",
    "                   3: 4,\n",
    "                   4: 8,\n",
    "                   5: 16,\n",
    "                   6: 32}\n",
    "\n",
    "        total = 0\n",
    "\n",
    "        rnd = 1\n",
    "\n",
    "        x = rounds[rnd].merge(bracket_64, left_on='WTeamID', right_on='TeamID', how='left')\n",
    "        x = x.rename(index=str, columns={\"Rank\": \"WTeamRank\"}).drop('TeamID', axis=1)\n",
    "        x = x.merge(bracket_64, left_on='LTeamID', right_on='TeamID', how='left')\n",
    "        x = x.rename(index=str, columns={\"Rank\": \"LTeamRank\"}).drop('TeamID', axis=1)\n",
    "        x['Correct'] = (x['WTeamRank'] < x['LTeamRank'])\n",
    "\n",
    "        picked = x['Correct'].sum()\n",
    "        total += weights[rnd]*picked\n",
    "        # print rnd, x['Correct'].count(), picked, weights[rnd]*picked, total\n",
    "\n",
    "        my_remaining_teams = x[x['Correct'] == True]['WTeamID']\n",
    "\n",
    "\n",
    "        #x[['Slot', 'WTeamID', 'WTeamName', 'WTeamRank', 'LTeamID', 'LTeamName', 'LTeamRank', 'Correct']]\n",
    "\n",
    "        for rnd in range(2, 6+1):\n",
    "            my_remaining_bracket = bracket[bracket['TeamID'].isin(my_remaining_teams)]\n",
    "\n",
    "            x = rounds[rnd].merge(bracket_64, left_on='WTeamID', right_on='TeamID', how='left')\n",
    "            x = x.rename(index=str, columns={\"Rank\": \"WTeamRank\"}).drop('TeamID', axis=1)\n",
    "            x = x.merge(bracket_64, left_on='LTeamID', right_on='TeamID', how='left')\n",
    "            x = x.rename(index=str, columns={\"Rank\": \"LTeamRank\"}).drop('TeamID', axis=1)\n",
    "            x['Correct'] = (x['WTeamRank'] < x['LTeamRank'])\n",
    "\n",
    "            picked = x[x['WTeamID'].isin(my_remaining_teams)]['Correct'].sum()\n",
    "            total += weights[rnd]*picked\n",
    "            #print rnd, x['Correct'].count(), picked, weights[rnd]*picked, total\n",
    "\n",
    "            my_remaining_teams = x[(x['Correct'] == True) & (x['WTeamID'].isin(my_remaining_teams))]['WTeamID']\n",
    "\n",
    "            # print teams[teams['TeamID'].isin(my_remaining_teams)][['TeamID', 'TeamName']]\n",
    "\n",
    "            #print x[x['WTeamID'] == 1314][['Slot', 'WTeamID', 'WTeamName', 'WTeamRank', 'LTeamID', 'LTeamName', 'LTeamRank', 'Correct']]\n",
    "        #print season, i, total\n",
    "        scores.append(total)\n",
    "        \n",
    "numpy.median(scores)        "
   ]
  },
  {
   "cell_type": "code",
   "execution_count": 51,
   "metadata": {
    "collapsed": false
   },
   "outputs": [
    {
     "data": {
      "text/plain": [
       "118.0"
      ]
     },
     "execution_count": 51,
     "metadata": {},
     "output_type": "execute_result"
    }
   ],
   "source": []
  },
  {
   "cell_type": "code",
   "execution_count": 50,
   "metadata": {
    "collapsed": false
   },
   "outputs": [
    {
     "data": {
      "image/png": "[encoded data removed]",
      "text/plain": [
       "<matplotlib.figure.Figure at 0x105a9d550>"
      ]
     },
     "metadata": {},
     "output_type": "display_data"
    }
   ],
   "source": [
    "plt.hist(scores, alpha=0.5, normed=True);"
   ]
  },
  {
   "cell_type": "code",
   "execution_count": null,
   "metadata": {
    "collapsed": true
   },
   "outputs": [],
   "source": []
  },
  {
   "cell_type": "code",
   "execution_count": 36,
   "metadata": {
    "collapsed": false
   },
   "outputs": [],
   "source": [
    "from collections import Counter"
   ]
  },
  {
   "cell_type": "code",
   "execution_count": 45,
   "metadata": {
    "collapsed": false
   },
   "outputs": [
    {
     "data": {
      "text/plain": [
       "Counter({94: 8, 126: 48, 150: 24})"
      ]
     },
     "execution_count": 45,
     "metadata": {},
     "output_type": "execute_result"
    }
   ],
   "source": [
    "Counter(scores)"
   ]
  }
 ],
 "metadata": {
  "kernelspec": {
   "display_name": "Python 2",
   "language": "python",
   "name": "python2"
  },
  "language_info": {
   "codemirror_mode": {
    "name": "ipython",
    "version": 2
   },
   "file_extension": ".py",
   "mimetype": "text/x-python",
   "name": "python",
   "nbconvert_exporter": "python",
   "pygments_lexer": "ipython2",
   "version": "2.7.11"
  }
 },
 "nbformat": 4,
 "nbformat_minor": 0
}
