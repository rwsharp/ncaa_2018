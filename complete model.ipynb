{
 "cells": [
  {
   "cell_type": "code",
   "execution_count": 1,
   "metadata": {
    "collapsed": false
   },
   "outputs": [
    {
     "name": "stderr",
     "output_type": "stream",
     "text": [
      "/Users/rsharp/PROJECTS/rws_project_python/lib/python2.7/site-packages/matplotlib/font_manager.py:273: UserWarning: Matplotlib is building the font cache using fc-list. This may take a moment.\n",
      "  warnings.warn('Matplotlib is building the font cache using fc-list. This may take a moment.')\n"
     ]
    }
   ],
   "source": [
    "%matplotlib inline\n",
    "\n",
    "import os\n",
    "import pandas\n",
    "import numpy\n",
    "import sklearn\n",
    "import matplotlib.pyplot as plt\n",
    "from sklearn.tree import DecisionTreeRegressor\n",
    "from sklearn.ensemble import AdaBoostRegressor\n"
   ]
  },
  {
   "cell_type": "code",
   "execution_count": 2,
   "metadata": {
    "collapsed": false
   },
   "outputs": [
    {
     "data": {
      "text/html": [
       "<div>\n",
       "<table border=\"1\" class=\"dataframe\">\n",
       "  <thead>\n",
       "    <tr style=\"text-align: right;\">\n",
       "      <th></th>\n",
       "      <th>Team</th>\n",
       "      <th>rank</th>\n",
       "      <th>TeamID</th>\n",
       "      <th>norm_rank</th>\n",
       "      <th>Season</th>\n",
       "      <th>noise</th>\n",
       "    </tr>\n",
       "  </thead>\n",
       "  <tbody>\n",
       "    <tr>\n",
       "      <th>0</th>\n",
       "      <td>Kansas</td>\n",
       "      <td>11.000000</td>\n",
       "      <td>1242</td>\n",
       "      <td>0.000000</td>\n",
       "      <td>2010</td>\n",
       "      <td>-0.388046</td>\n",
       "    </tr>\n",
       "    <tr>\n",
       "      <th>1</th>\n",
       "      <td>Kentucky</td>\n",
       "      <td>11.000000</td>\n",
       "      <td>1246</td>\n",
       "      <td>0.000000</td>\n",
       "      <td>2010</td>\n",
       "      <td>0.356803</td>\n",
       "    </tr>\n",
       "    <tr>\n",
       "      <th>2</th>\n",
       "      <td>Duke</td>\n",
       "      <td>11.000000</td>\n",
       "      <td>1181</td>\n",
       "      <td>0.000000</td>\n",
       "      <td>2010</td>\n",
       "      <td>0.019042</td>\n",
       "    </tr>\n",
       "    <tr>\n",
       "      <th>3</th>\n",
       "      <td>Syracuse</td>\n",
       "      <td>11.000000</td>\n",
       "      <td>1393</td>\n",
       "      <td>0.000000</td>\n",
       "      <td>2010</td>\n",
       "      <td>0.405093</td>\n",
       "    </tr>\n",
       "    <tr>\n",
       "      <th>4</th>\n",
       "      <td>West Virginia</td>\n",
       "      <td>11.555556</td>\n",
       "      <td>1452</td>\n",
       "      <td>0.010678</td>\n",
       "      <td>2010</td>\n",
       "      <td>-0.060610</td>\n",
       "    </tr>\n",
       "  </tbody>\n",
       "</table>\n",
       "</div>"
      ],
      "text/plain": [
       "            Team       rank  TeamID  norm_rank  Season     noise\n",
       "0         Kansas  11.000000    1242   0.000000    2010 -0.388046\n",
       "1       Kentucky  11.000000    1246   0.000000    2010  0.356803\n",
       "2           Duke  11.000000    1181   0.000000    2010  0.019042\n",
       "3       Syracuse  11.000000    1393   0.000000    2010  0.405093\n",
       "4  West Virginia  11.555556    1452   0.010678    2010 -0.060610"
      ]
     },
     "execution_count": 2,
     "metadata": {},
     "output_type": "execute_result"
    }
   ],
   "source": [
    "polls_file_name = 'full_bracket.poll_of_polls.csv'\n",
    "streak_file_name = 'composite_streak_data.csv'\n",
    "points_file_name =  'team_points.csv'\n",
    "\n",
    "\n",
    "polls = pandas.read_csv(polls_file_name, sep='|')\n",
    "streak = pandas.read_csv(streak_file_name, sep='|').drop('Unnamed: 0', axis=1)\n",
    "points = pandas.read_csv(points_file_name, sep='|').drop('Unnamed: 0', axis=1)\n",
    "\n",
    "polls[:5]"
   ]
  },
  {
   "cell_type": "code",
   "execution_count": 3,
   "metadata": {
    "collapsed": true
   },
   "outputs": [],
   "source": [
    "root_path = 'data/kaggle_2018/DataFiles'\n",
    "\n",
    "teams = pandas.read_csv(os.path.join(root_path, 'Teams.csv'))\n",
    "slots = pandas.read_csv(os.path.join(root_path, 'NCAATourneySlots.csv'))\n",
    "seeds = pandas.read_csv(os.path.join(root_path, 'NCAATourneySeeds.csv'))\n",
    "results = pandas.read_csv(os.path.join(root_path, 'NCAATourneyCompactResults.csv'))\n",
    "\n",
    "results['minID'] = results[['WTeamID', 'LTeamID']].min(axis=1)\n",
    "results['maxID'] = results[['WTeamID', 'LTeamID']].max(axis=1)"
   ]
  },
  {
   "cell_type": "code",
   "execution_count": 4,
   "metadata": {
    "collapsed": false
   },
   "outputs": [
    {
     "name": "stderr",
     "output_type": "stream",
     "text": [
      "/Users/rsharp/PROJECTS/rws_project_python/lib/python2.7/site-packages/pandas/core/indexing.py:288: SettingWithCopyWarning: \n",
      "A value is trying to be set on a copy of a slice from a DataFrame.\n",
      "Try using .loc[row_indexer,col_indexer] = value instead\n",
      "\n",
      "See the caveats in the documentation: http://pandas.pydata.org/pandas-docs/stable/indexing.html#indexing-view-versus-copy\n",
      "  self.obj[key] = _infer_fill_value(value)\n",
      "/Users/rsharp/PROJECTS/rws_project_python/lib/python2.7/site-packages/pandas/core/indexing.py:465: SettingWithCopyWarning: \n",
      "A value is trying to be set on a copy of a slice from a DataFrame.\n",
      "Try using .loc[row_indexer,col_indexer] = value instead\n",
      "\n",
      "See the caveats in the documentation: http://pandas.pydata.org/pandas-docs/stable/indexing.html#indexing-view-versus-copy\n",
      "  self.obj[item] = s\n"
     ]
    }
   ],
   "source": [
    "# Load all historical tournament data\n",
    "rounds_by_season = dict()\n",
    "\n",
    "for season in range(2010, 2017+1):\n",
    "    # initialize\n",
    "    df = slots.merge(seeds, left_on=['Season', 'StrongSeed'], right_on=['Season', 'Seed'], how='left')\n",
    "    df = df.rename(index=str, columns={\"TeamID\": \"StrongTeamID\"}).drop('Seed', axis=1)\n",
    "    df = df.merge(seeds, left_on=['Season', 'WeakSeed'], right_on=['Season', 'Seed'], how='left')\n",
    "    df = df.rename(index=str, columns={\"TeamID\": \"WeakTeamID\"}).drop('Seed', axis=1)\n",
    "\n",
    "    # play-in games\n",
    "    pi_games = ~(df['Slot'].str.contains('R')) & (df['Season'] == season)\n",
    "    pi = df[pi_games]\n",
    "\n",
    "    pi.loc[pi_games, 'minID'] = pi[['StrongTeamID', 'WeakTeamID']].min(axis=1)\n",
    "    pi.loc[pi_games, 'maxID'] = pi[['StrongTeamID', 'WeakTeamID']].max(axis=1)\n",
    "\n",
    "    pi = pi.merge(results, on=['Season', 'minID', 'maxID'], how='left')\n",
    "\n",
    "    pi = pi.merge(teams[['TeamID', 'TeamName']], left_on=['StrongTeamID'], right_on=['TeamID'], how='left')\n",
    "    pi = pi.rename(index=str, columns={\"TeamName\": \"StrongTeamName\"}).drop('TeamID', axis=1)\n",
    "    pi = pi.merge(teams[['TeamID', 'TeamName']], left_on=['WeakTeamID'], right_on=['TeamID'], how='left')\n",
    "    pi = pi.rename(index=str, columns={\"TeamName\": \"WeakTeamName\"}).drop('TeamID', axis=1)\n",
    "    pi = pi.merge(teams[['TeamID', 'TeamName']], left_on=['WTeamID'], right_on=['TeamID'], how='left')\n",
    "    pi = pi.rename(index=str, columns={\"TeamName\": \"WTeamName\"}).drop('TeamID', axis=1)\n",
    "    pi = pi.merge(teams[['TeamID', 'TeamName']], left_on=['LTeamID'], right_on=['TeamID'], how='left')\n",
    "    pi = pi.rename(index=str, columns={\"TeamName\": \"LTeamName\"}).drop('TeamID', axis=1)\n",
    "\n",
    "    pi\n",
    "\n",
    "    # regular rounds\n",
    "    rounds = [pi]\n",
    "\n",
    "    for rnd in range(1, 6 + 1):\n",
    "        last_rnd = rounds[-1]\n",
    "\n",
    "        r_games = (df['Slot'].str.contains('R{}..'.format(rnd))) & (df['Season'] == season)\n",
    "        r = df[r_games]\n",
    "\n",
    "        r = r.merge(last_rnd[['Slot', 'WTeamID']], left_on='StrongSeed', right_on='Slot', how='left', suffixes=['', '__'])\n",
    "        r.loc[r['StrongTeamID'].isnull(), 'StrongTeamID'] = r['WTeamID']\n",
    "        r = r.drop(['Slot__', 'WTeamID'], axis=1)\n",
    "\n",
    "        r = r.merge(last_rnd[['Slot', 'WTeamID']], left_on='WeakSeed', right_on='Slot', how='left', suffixes=['', '__'])\n",
    "        r.loc[r['WeakTeamID'].isnull(), 'WeakTeamID'] = r['WTeamID']\n",
    "        r = r.drop(['Slot__', 'WTeamID'], axis=1)\n",
    "\n",
    "        r['minID'] = r[['StrongTeamID', 'WeakTeamID']].min(axis=1)\n",
    "        r['maxID'] = r[['StrongTeamID', 'WeakTeamID']].max(axis=1)\n",
    "\n",
    "        r = r.merge(results, on=['Season', 'minID', 'maxID'], how='left')\n",
    "\n",
    "        r = r.merge(teams[['TeamID', 'TeamName']], left_on=['StrongTeamID'], right_on=['TeamID'], how='left')\n",
    "        r = r.rename(index=str, columns={\"TeamName\": \"StrongTeamName\"}).drop('TeamID', axis=1)\n",
    "        r = r.merge(teams[['TeamID', 'TeamName']], left_on=['WeakTeamID'], right_on=['TeamID'], how='left')\n",
    "        r = r.rename(index=str, columns={\"TeamName\": \"WeakTeamName\"}).drop('TeamID', axis=1)\n",
    "        r = r.merge(teams[['TeamID', 'TeamName']], left_on=['WTeamID'], right_on=['TeamID'], how='left')\n",
    "        r = r.rename(index=str, columns={\"TeamName\": \"WTeamName\"}).drop('TeamID', axis=1)\n",
    "        r = r.merge(teams[['TeamID', 'TeamName']], left_on=['LTeamID'], right_on=['TeamID'], how='left')\n",
    "        r = r.rename(index=str, columns={\"TeamName\": \"LTeamName\"}).drop('TeamID', axis=1)\n",
    "\n",
    "        rounds.append(r.copy())\n",
    "        \n",
    "    rounds_by_season[season] = rounds"
   ]
  },
  {
   "cell_type": "code",
   "execution_count": 53,
   "metadata": {
    "collapsed": false
   },
   "outputs": [],
   "source": [
    "def score_bracket(season, ranking, beta, historical_rounds, weights):\n",
    "    # season: a year between 2010 and 2017 for which the ranking was created\n",
    "    # ranking: ['TeamID', 'Rank'] - all D1 teams ranked as of the last day before the NCAA Tournament\n",
    "    # historical_rounds: all historical NCAA tournament results by round between 2010 and 2017\n",
    "    # weights: number of points to award per round in the scoring system \n",
    "    \n",
    "    # Get the Tournament data for the indicated season\n",
    "    rounds = historical_rounds[season]\n",
    "    \n",
    "    # Get the 64 teams in Round 1\n",
    "    teams_64 = map(int, list(rounds[1]['StrongTeamID']) + list(rounds[1]['WeakTeamID']))\n",
    "\n",
    "    # Get the bracket implied by the ranking\n",
    "    bracket_64 = ranking[ranking['TeamID'].isin(teams_64)]\n",
    "    initial_rank_64 = bracket_64['Rank'].copy()\n",
    "\n",
    "    score = 0\n",
    "\n",
    "    # First round - determine matchups and winners\n",
    "    rnd = 1\n",
    "\n",
    "    # Add noise to the rank each round\n",
    "    bracket_64['Rank'] = initial_rank_64 + numpy.random.normal(scale=beta, size=bracket_64.shape[0]) \n",
    "    \n",
    "    x = rounds[rnd].merge(bracket_64, left_on='WTeamID', right_on='TeamID', how='left')\n",
    "    x = x.rename(index=str, columns={\"Rank\": \"WTeamRank\"}).drop('TeamID', axis=1)\n",
    "    x = x.merge(bracket_64, left_on='LTeamID', right_on='TeamID', how='left')\n",
    "    x = x.rename(index=str, columns={\"Rank\": \"LTeamRank\"}).drop('TeamID', axis=1)\n",
    "    x['Correct'] = (x['WTeamRank'] < x['LTeamRank'])\n",
    "\n",
    "    # Update score\n",
    "    picked = x['Correct'].sum()\n",
    "    score += weights[rnd]*picked\n",
    "    # print rnd, x['Correct'].count(), picked, weights[rnd]*picked, total\n",
    "\n",
    "    # Eliminate wrong picks\n",
    "    my_remaining_teams = x[x['Correct'] == True]['WTeamID']\n",
    "\n",
    "    # Remaining rounds - determine matchups and winners\n",
    "    for rnd in range(2, 6+1):\n",
    "        #my_remaining_bracket = bracket[bracket['TeamID'].isin(my_remaining_teams)]\n",
    "        #my_remaining_bracket = ranking[ranking['TeamID'].isin(my_remaining_teams)]\n",
    "\n",
    "        # Add noise to the rank each round\n",
    "        #bracket_64['Rank'] = initial_rank_64 + numpy.random.normal(scale=beta/float(rnd), size=bracket_64.shape[0])\n",
    "        bracket_64['Rank'] = initial_rank_64 + numpy.random.normal(scale=beta/numpy.power(2.0, rnd), size=bracket_64.shape[0])\n",
    "        \n",
    "        x = rounds[rnd].merge(bracket_64, left_on='WTeamID', right_on='TeamID', how='left')\n",
    "        x = x.rename(index=str, columns={\"Rank\": \"WTeamRank\"}).drop('TeamID', axis=1)\n",
    "        x = x.merge(bracket_64, left_on='LTeamID', right_on='TeamID', how='left')\n",
    "        x = x.rename(index=str, columns={\"Rank\": \"LTeamRank\"}).drop('TeamID', axis=1)\n",
    "        x['Correct'] = (x['WTeamRank'] < x['LTeamRank'])\n",
    "\n",
    "        # Update score\n",
    "        picked = x[x['WTeamID'].isin(my_remaining_teams)]['Correct'].sum()\n",
    "        score += weights[rnd]*picked\n",
    "        #print rnd, x['Correct'].count(), picked, weights[rnd]*picked, total\n",
    "\n",
    "        # Eliminate wrong picks\n",
    "        my_remaining_teams = x[(x['Correct'] == True) & (x['WTeamID'].isin(my_remaining_teams))]['WTeamID']\n",
    "\n",
    "    return score"
   ]
  },
  {
   "cell_type": "code",
   "execution_count": 46,
   "metadata": {
    "collapsed": false
   },
   "outputs": [
    {
     "data": {
      "text/plain": [
       "8.0"
      ]
     },
     "execution_count": 46,
     "metadata": {},
     "output_type": "execute_result"
    }
   ],
   "source": []
  },
  {
   "cell_type": "code",
   "execution_count": 6,
   "metadata": {
    "collapsed": false
   },
   "outputs": [
    {
     "ename": "IOError",
     "evalue": "File bracket.combined.2010.0.csv does not exist",
     "output_type": "error",
     "traceback": [
      "\u001b[0;31m---------------------------------------------------------------------------\u001b[0m",
      "\u001b[0;31mIOError\u001b[0m                                   Traceback (most recent call last)",
      "\u001b[0;32m<ipython-input-6-d597f4ebd04e>\u001b[0m in \u001b[0;36m<module>\u001b[0;34m()\u001b[0m\n\u001b[1;32m     10\u001b[0m         ]\n\u001b[1;32m     11\u001b[0m \u001b[0;34m\u001b[0m\u001b[0m\n\u001b[0;32m---> 12\u001b[0;31m         \u001b[0mbracket\u001b[0m \u001b[0;34m=\u001b[0m \u001b[0mpandas\u001b[0m\u001b[0;34m.\u001b[0m\u001b[0mread_csv\u001b[0m\u001b[0;34m(\u001b[0m\u001b[0mbracket_file_name\u001b[0m\u001b[0;34m,\u001b[0m \u001b[0msep\u001b[0m\u001b[0;34m=\u001b[0m\u001b[0;34m' '\u001b[0m\u001b[0;34m,\u001b[0m \u001b[0mnames\u001b[0m\u001b[0;34m=\u001b[0m\u001b[0;34m[\u001b[0m\u001b[0mx\u001b[0m\u001b[0;34m[\u001b[0m\u001b[0;36m0\u001b[0m\u001b[0;34m]\u001b[0m \u001b[0;32mfor\u001b[0m \u001b[0mx\u001b[0m \u001b[0;32min\u001b[0m \u001b[0mschema\u001b[0m\u001b[0;34m]\u001b[0m\u001b[0;34m,\u001b[0m \u001b[0mdtype\u001b[0m\u001b[0;34m=\u001b[0m\u001b[0mdict\u001b[0m\u001b[0;34m(\u001b[0m\u001b[0mschema\u001b[0m\u001b[0;34m)\u001b[0m\u001b[0;34m)\u001b[0m\u001b[0;34m\u001b[0m\u001b[0m\n\u001b[0m\u001b[1;32m     13\u001b[0m \u001b[0;34m\u001b[0m\u001b[0m\n",
      "\u001b[0;32m/Users/rsharp/PROJECTS/rws_project_python/lib/python2.7/site-packages/pandas/io/parsers.pyc\u001b[0m in \u001b[0;36mparser_f\u001b[0;34m(filepath_or_buffer, sep, delimiter, header, names, index_col, usecols, squeeze, prefix, mangle_dupe_cols, dtype, engine, converters, true_values, false_values, skipinitialspace, skiprows, skipfooter, nrows, na_values, keep_default_na, na_filter, verbose, skip_blank_lines, parse_dates, infer_datetime_format, keep_date_col, date_parser, dayfirst, iterator, chunksize, compression, thousands, decimal, lineterminator, quotechar, quoting, escapechar, comment, encoding, dialect, tupleize_cols, error_bad_lines, warn_bad_lines, skip_footer, doublequote, delim_whitespace, as_recarray, compact_ints, use_unsigned, low_memory, buffer_lines, memory_map, float_precision)\u001b[0m\n\u001b[1;32m    560\u001b[0m                     skip_blank_lines=skip_blank_lines)\n\u001b[1;32m    561\u001b[0m \u001b[0;34m\u001b[0m\u001b[0m\n\u001b[0;32m--> 562\u001b[0;31m         \u001b[0;32mreturn\u001b[0m \u001b[0m_read\u001b[0m\u001b[0;34m(\u001b[0m\u001b[0mfilepath_or_buffer\u001b[0m\u001b[0;34m,\u001b[0m \u001b[0mkwds\u001b[0m\u001b[0;34m)\u001b[0m\u001b[0;34m\u001b[0m\u001b[0m\n\u001b[0m\u001b[1;32m    563\u001b[0m \u001b[0;34m\u001b[0m\u001b[0m\n\u001b[1;32m    564\u001b[0m     \u001b[0mparser_f\u001b[0m\u001b[0;34m.\u001b[0m\u001b[0m__name__\u001b[0m \u001b[0;34m=\u001b[0m \u001b[0mname\u001b[0m\u001b[0;34m\u001b[0m\u001b[0m\n",
      "\u001b[0;32m/Users/rsharp/PROJECTS/rws_project_python/lib/python2.7/site-packages/pandas/io/parsers.pyc\u001b[0m in \u001b[0;36m_read\u001b[0;34m(filepath_or_buffer, kwds)\u001b[0m\n\u001b[1;32m    313\u001b[0m \u001b[0;34m\u001b[0m\u001b[0m\n\u001b[1;32m    314\u001b[0m     \u001b[0;31m# Create the parser.\u001b[0m\u001b[0;34m\u001b[0m\u001b[0;34m\u001b[0m\u001b[0m\n\u001b[0;32m--> 315\u001b[0;31m     \u001b[0mparser\u001b[0m \u001b[0;34m=\u001b[0m \u001b[0mTextFileReader\u001b[0m\u001b[0;34m(\u001b[0m\u001b[0mfilepath_or_buffer\u001b[0m\u001b[0;34m,\u001b[0m \u001b[0;34m**\u001b[0m\u001b[0mkwds\u001b[0m\u001b[0;34m)\u001b[0m\u001b[0;34m\u001b[0m\u001b[0m\n\u001b[0m\u001b[1;32m    316\u001b[0m \u001b[0;34m\u001b[0m\u001b[0m\n\u001b[1;32m    317\u001b[0m     \u001b[0;32mif\u001b[0m \u001b[0;34m(\u001b[0m\u001b[0mnrows\u001b[0m \u001b[0;32mis\u001b[0m \u001b[0;32mnot\u001b[0m \u001b[0mNone\u001b[0m\u001b[0;34m)\u001b[0m \u001b[0;32mand\u001b[0m \u001b[0;34m(\u001b[0m\u001b[0mchunksize\u001b[0m \u001b[0;32mis\u001b[0m \u001b[0;32mnot\u001b[0m \u001b[0mNone\u001b[0m\u001b[0;34m)\u001b[0m\u001b[0;34m:\u001b[0m\u001b[0;34m\u001b[0m\u001b[0m\n",
      "\u001b[0;32m/Users/rsharp/PROJECTS/rws_project_python/lib/python2.7/site-packages/pandas/io/parsers.pyc\u001b[0m in \u001b[0;36m__init__\u001b[0;34m(self, f, engine, **kwds)\u001b[0m\n\u001b[1;32m    643\u001b[0m             \u001b[0mself\u001b[0m\u001b[0;34m.\u001b[0m\u001b[0moptions\u001b[0m\u001b[0;34m[\u001b[0m\u001b[0;34m'has_index_names'\u001b[0m\u001b[0;34m]\u001b[0m \u001b[0;34m=\u001b[0m \u001b[0mkwds\u001b[0m\u001b[0;34m[\u001b[0m\u001b[0;34m'has_index_names'\u001b[0m\u001b[0;34m]\u001b[0m\u001b[0;34m\u001b[0m\u001b[0m\n\u001b[1;32m    644\u001b[0m \u001b[0;34m\u001b[0m\u001b[0m\n\u001b[0;32m--> 645\u001b[0;31m         \u001b[0mself\u001b[0m\u001b[0;34m.\u001b[0m\u001b[0m_make_engine\u001b[0m\u001b[0;34m(\u001b[0m\u001b[0mself\u001b[0m\u001b[0;34m.\u001b[0m\u001b[0mengine\u001b[0m\u001b[0;34m)\u001b[0m\u001b[0;34m\u001b[0m\u001b[0m\n\u001b[0m\u001b[1;32m    646\u001b[0m \u001b[0;34m\u001b[0m\u001b[0m\n\u001b[1;32m    647\u001b[0m     \u001b[0;32mdef\u001b[0m \u001b[0mclose\u001b[0m\u001b[0;34m(\u001b[0m\u001b[0mself\u001b[0m\u001b[0;34m)\u001b[0m\u001b[0;34m:\u001b[0m\u001b[0;34m\u001b[0m\u001b[0m\n",
      "\u001b[0;32m/Users/rsharp/PROJECTS/rws_project_python/lib/python2.7/site-packages/pandas/io/parsers.pyc\u001b[0m in \u001b[0;36m_make_engine\u001b[0;34m(self, engine)\u001b[0m\n\u001b[1;32m    797\u001b[0m     \u001b[0;32mdef\u001b[0m \u001b[0m_make_engine\u001b[0m\u001b[0;34m(\u001b[0m\u001b[0mself\u001b[0m\u001b[0;34m,\u001b[0m \u001b[0mengine\u001b[0m\u001b[0;34m=\u001b[0m\u001b[0;34m'c'\u001b[0m\u001b[0;34m)\u001b[0m\u001b[0;34m:\u001b[0m\u001b[0;34m\u001b[0m\u001b[0m\n\u001b[1;32m    798\u001b[0m         \u001b[0;32mif\u001b[0m \u001b[0mengine\u001b[0m \u001b[0;34m==\u001b[0m \u001b[0;34m'c'\u001b[0m\u001b[0;34m:\u001b[0m\u001b[0;34m\u001b[0m\u001b[0m\n\u001b[0;32m--> 799\u001b[0;31m             \u001b[0mself\u001b[0m\u001b[0;34m.\u001b[0m\u001b[0m_engine\u001b[0m \u001b[0;34m=\u001b[0m \u001b[0mCParserWrapper\u001b[0m\u001b[0;34m(\u001b[0m\u001b[0mself\u001b[0m\u001b[0;34m.\u001b[0m\u001b[0mf\u001b[0m\u001b[0;34m,\u001b[0m \u001b[0;34m**\u001b[0m\u001b[0mself\u001b[0m\u001b[0;34m.\u001b[0m\u001b[0moptions\u001b[0m\u001b[0;34m)\u001b[0m\u001b[0;34m\u001b[0m\u001b[0m\n\u001b[0m\u001b[1;32m    800\u001b[0m         \u001b[0;32melse\u001b[0m\u001b[0;34m:\u001b[0m\u001b[0;34m\u001b[0m\u001b[0m\n\u001b[1;32m    801\u001b[0m             \u001b[0;32mif\u001b[0m \u001b[0mengine\u001b[0m \u001b[0;34m==\u001b[0m \u001b[0;34m'python'\u001b[0m\u001b[0;34m:\u001b[0m\u001b[0;34m\u001b[0m\u001b[0m\n",
      "\u001b[0;32m/Users/rsharp/PROJECTS/rws_project_python/lib/python2.7/site-packages/pandas/io/parsers.pyc\u001b[0m in \u001b[0;36m__init__\u001b[0;34m(self, src, **kwds)\u001b[0m\n\u001b[1;32m   1211\u001b[0m         \u001b[0mkwds\u001b[0m\u001b[0;34m[\u001b[0m\u001b[0;34m'allow_leading_cols'\u001b[0m\u001b[0;34m]\u001b[0m \u001b[0;34m=\u001b[0m \u001b[0mself\u001b[0m\u001b[0;34m.\u001b[0m\u001b[0mindex_col\u001b[0m \u001b[0;32mis\u001b[0m \u001b[0;32mnot\u001b[0m \u001b[0mFalse\u001b[0m\u001b[0;34m\u001b[0m\u001b[0m\n\u001b[1;32m   1212\u001b[0m \u001b[0;34m\u001b[0m\u001b[0m\n\u001b[0;32m-> 1213\u001b[0;31m         \u001b[0mself\u001b[0m\u001b[0;34m.\u001b[0m\u001b[0m_reader\u001b[0m \u001b[0;34m=\u001b[0m \u001b[0m_parser\u001b[0m\u001b[0;34m.\u001b[0m\u001b[0mTextReader\u001b[0m\u001b[0;34m(\u001b[0m\u001b[0msrc\u001b[0m\u001b[0;34m,\u001b[0m \u001b[0;34m**\u001b[0m\u001b[0mkwds\u001b[0m\u001b[0;34m)\u001b[0m\u001b[0;34m\u001b[0m\u001b[0m\n\u001b[0m\u001b[1;32m   1214\u001b[0m \u001b[0;34m\u001b[0m\u001b[0m\n\u001b[1;32m   1215\u001b[0m         \u001b[0;31m# XXX\u001b[0m\u001b[0;34m\u001b[0m\u001b[0;34m\u001b[0m\u001b[0m\n",
      "\u001b[0;32mpandas/parser.pyx\u001b[0m in \u001b[0;36mpandas.parser.TextReader.__cinit__ (pandas/parser.c:3427)\u001b[0;34m()\u001b[0m\n",
      "\u001b[0;32mpandas/parser.pyx\u001b[0m in \u001b[0;36mpandas.parser.TextReader._setup_parser_source (pandas/parser.c:6861)\u001b[0;34m()\u001b[0m\n",
      "\u001b[0;31mIOError\u001b[0m: File bracket.combined.2010.0.csv does not exist"
     ]
    }
   ],
   "source": [
    "scores = list()\n",
    "\n",
    "for season in range(2010, 2017+1):\n",
    "    for i in range(20):\n",
    "        bracket_file_name = 'bracket.combined.{}.{}.csv'.format(season, i)\n",
    "\n",
    "        schema = [\n",
    "            ('TeamID', int),\n",
    "            ('Rank', float)\n",
    "        ]\n",
    "\n",
    "        bracket = pandas.read_csv(bracket_file_name, sep=' ', names=[x[0] for x in schema], dtype=dict(schema))\n",
    "        \n"
   ]
  },
  {
   "cell_type": "code",
   "execution_count": 7,
   "metadata": {
    "collapsed": false
   },
   "outputs": [
    {
     "ename": "NameError",
     "evalue": "name 'bracket' is not defined",
     "output_type": "error",
     "traceback": [
      "\u001b[0;31m---------------------------------------------------------------------------\u001b[0m",
      "\u001b[0;31mNameError\u001b[0m                                 Traceback (most recent call last)",
      "\u001b[0;32m<ipython-input-7-018257fab3cf>\u001b[0m in \u001b[0;36m<module>\u001b[0;34m()\u001b[0m\n\u001b[1;32m      6\u001b[0m            6: 32}\n\u001b[1;32m      7\u001b[0m \u001b[0;34m\u001b[0m\u001b[0m\n\u001b[0;32m----> 8\u001b[0;31m \u001b[0mscore_bracket\u001b[0m\u001b[0;34m(\u001b[0m\u001b[0mseason\u001b[0m\u001b[0;34m,\u001b[0m \u001b[0mbracket\u001b[0m\u001b[0;34m,\u001b[0m \u001b[0mrounds_by_season\u001b[0m\u001b[0;34m,\u001b[0m \u001b[0mweights\u001b[0m\u001b[0;34m)\u001b[0m\u001b[0;34m\u001b[0m\u001b[0m\n\u001b[0m",
      "\u001b[0;31mNameError\u001b[0m: name 'bracket' is not defined"
     ]
    }
   ],
   "source": [
    "weights = {1: 1,\n",
    "           2: 2,\n",
    "           3: 4,\n",
    "           4: 8,\n",
    "           5: 16,\n",
    "           6: 32}\n",
    "\n",
    "score_bracket(season, bracket, rounds_by_season, weights)"
   ]
  },
  {
   "cell_type": "code",
   "execution_count": 8,
   "metadata": {
    "collapsed": false
   },
   "outputs": [],
   "source": [
    "import random\n",
    "\n"
   ]
  },
  {
   "cell_type": "code",
   "execution_count": 9,
   "metadata": {
    "collapsed": false
   },
   "outputs": [
    {
     "data": {
      "text/plain": [
       "125"
      ]
     },
     "execution_count": 9,
     "metadata": {},
     "output_type": "execute_result"
    }
   ],
   "source": [
    "5*5*5"
   ]
  },
  {
   "cell_type": "code",
   "execution_count": 54,
   "metadata": {
    "collapsed": false
   },
   "outputs": [
    {
     "name": "stdout",
     "output_type": "stream",
     "text": [
      "2010\n"
     ]
    },
    {
     "name": "stderr",
     "output_type": "stream",
     "text": [
      "/Users/rsharp/PROJECTS/rws_project_python/lib/python2.7/site-packages/ipykernel/__main__.py:23: SettingWithCopyWarning: \n",
      "A value is trying to be set on a copy of a slice from a DataFrame.\n",
      "Try using .loc[row_indexer,col_indexer] = value instead\n",
      "\n",
      "See the caveats in the documentation: http://pandas.pydata.org/pandas-docs/stable/indexing.html#indexing-view-versus-copy\n",
      "/Users/rsharp/PROJECTS/rws_project_python/lib/python2.7/site-packages/ipykernel/__main__.py:46: SettingWithCopyWarning: \n",
      "A value is trying to be set on a copy of a slice from a DataFrame.\n",
      "Try using .loc[row_indexer,col_indexer] = value instead\n",
      "\n",
      "See the caveats in the documentation: http://pandas.pydata.org/pandas-docs/stable/indexing.html#indexing-view-versus-copy\n"
     ]
    },
    {
     "name": "stdout",
     "output_type": "stream",
     "text": [
      "2011\n",
      "2012\n",
      "2013\n",
      "2014\n",
      "2015\n",
      "2016\n",
      "2017\n"
     ]
    }
   ],
   "source": [
    "#n = 60\n",
    "#trials = 10\n",
    "\n",
    "n = 100\n",
    "trials = 1\n",
    "\n",
    "alpha_min = -1.0\n",
    "alpha_max = 0.0\n",
    "alpha_n = 100\n",
    "\n",
    "beta_min = numpy.log(0.001)\n",
    "beta_max = numpy.log(0.1)\n",
    "beta_n   = n\n",
    "\n",
    "h_model_data = dict([(f, list()) for f in ['Season', 'alpha', 'beta', 'score']])\n",
    "#data = None\n",
    "\n",
    "for season in range(2010, 2017+1):\n",
    "    print season\n",
    "    for alpha in [0.0]:\n",
    "    #for alpha in numpy.linspace(-0.2, 0.2, n):\n",
    "    # for alpha in numpy.random.random(alpha_n)*(alpha_max - alpha_min) + alpha_min: \n",
    "        for beta in numpy.linspace(0.01, 1.0, n):\n",
    "        #for beta in numpy.logspace(-3.0, 0.0, n):\n",
    "        #for beta in numpy.random.random(beta_n)*(beta_max - beta_min) + beta_min: \n",
    "        #for beta in numpy.exp(numpy.random.random(beta_n)*(beta_max - beta_min) + beta_min):\n",
    "        #for beta in [0.0]:\n",
    "            for i in range(trials):\n",
    "                w = streak[(streak['Season'] == season) & (streak['StreakLen'] == 6)] \\\n",
    "                    .merge(polls[['TeamID', 'Season', 'norm_rank', 'noise']], on=['Season', 'TeamID'], how='left') \\\n",
    "                    .sort_values('norm_rank')\n",
    "\n",
    "                #w['Rank'] = w['norm_rank'] - alpha*w['streak'] + beta*(numpy.random.random(w.shape[0]) - 0.5)\n",
    "                #w['Rank'] = w['norm_rank'] - alpha*w['streak']\n",
    "                #w['Rank'] = w['norm_rank'] + beta*(numpy.random.random(w.shape[0]) - 0.5)\n",
    "                w['Rank'] = w['norm_rank'] \n",
    "                w['alpha'] = alpha\n",
    "                w['beta'] = beta\n",
    "                w['Season'] = season\n",
    "                \n",
    "                score = score_bracket(season, w[['TeamID', 'Rank']], beta, rounds_by_season, weights)\n",
    "                \n",
    "                # print season, alpha, beta, score\n",
    "\n",
    "                h_model_data['Season'].append(season)\n",
    "                h_model_data['alpha'].append(alpha)\n",
    "                h_model_data['beta'].append(beta)\n",
    "                h_model_data['score'].append(score)\n",
    "                \n",
    "                #if data is None:\n",
    "                #    data = w[['alpha', 'beta', 'Season', 'TeamID', 'Rank']].copy()\n",
    "                #else:\n",
    "                #    data = data.append(w[['alpha', 'beta', 'Season', 'TeamID', 'Rank']].copy())\n",
    "                    \n",
    "h_model_data = pandas.DataFrame(h_model_data)"
   ]
  },
  {
   "cell_type": "code",
   "execution_count": 59,
   "metadata": {
    "collapsed": false
   },
   "outputs": [],
   "source": [
    "regr = AdaBoostRegressor(DecisionTreeRegressor(max_depth=6), n_estimators=500)"
   ]
  },
  {
   "cell_type": "code",
   "execution_count": 60,
   "metadata": {
    "collapsed": false
   },
   "outputs": [
    {
     "name": "stdout",
     "output_type": "stream",
     "text": [
      "2011\n",
      "(700, 1)\n"
     ]
    },
    {
     "data": {
      "text/plain": [
       "AdaBoostRegressor(base_estimator=DecisionTreeRegressor(criterion='mse', max_depth=6, max_features=None,\n",
       "           max_leaf_nodes=None, min_samples_leaf=1, min_samples_split=2,\n",
       "           min_weight_fraction_leaf=0.0, presort=False, random_state=None,\n",
       "           splitter='best'),\n",
       "         learning_rate=1.0, loss='linear', n_estimators=500,\n",
       "         random_state=None)"
      ]
     },
     "execution_count": 60,
     "metadata": {},
     "output_type": "execute_result"
    }
   ],
   "source": [
    "holdout_season = random.sample(range(2010, 2017+1), 1)[0]\n",
    "\n",
    "X = h_model_data[h_model_data['Season'] != holdout_season][['beta']]\n",
    "y = h_model_data[h_model_data['Season'] != holdout_season]['score']\n",
    "\n",
    "print holdout_season\n",
    "print X.shape\n",
    "\n",
    "regr.fit(X, y)"
   ]
  },
  {
   "cell_type": "code",
   "execution_count": 61,
   "metadata": {
    "collapsed": false
   },
   "outputs": [
    {
     "data": {
      "image/png": "[encoded data removed]",
      "text/plain": [
       "<matplotlib.figure.Figure at 0x10dd74410>"
      ]
     },
     "metadata": {},
     "output_type": "display_data"
    }
   ],
   "source": [
    "# randomness is necessary, but not much - it's generally a negative trend\n",
    "# the right amount is the smallest amount possible that has any effect\n",
    "\n",
    "y_pred = regr.predict(h_model_data[h_model_data['Season'] == holdout_season][['beta']])\n",
    "\n",
    "axis_feature = 'beta'\n",
    "\n",
    "plt.figure()\n",
    "px, py = zip(*sorted(zip(X[axis_feature], y)))\n",
    "plt.scatter(px, py, c=\"k\", label=\"training samples\")\n",
    "px, py_pred = zip(*sorted(zip(X[axis_feature], y_pred)))\n",
    "plt.scatter(px, py_pred, c=\"r\", label=\"n_estimators=300\")\n",
    "plt.xlabel(axis_feature)\n",
    "plt.ylabel(\"target\")\n",
    "plt.title(\"Boosted Decision Tree Regression\")\n",
    "plt.legend(bbox_to_anchor=(1.5, 1.0))\n",
    "plt.show()"
   ]
  },
  {
   "cell_type": "code",
   "execution_count": 58,
   "metadata": {
    "collapsed": false
   },
   "outputs": [
    {
     "name": "stderr",
     "output_type": "stream",
     "text": [
      "/Users/rsharp/PROJECTS/rws_project_python/lib/python2.7/site-packages/ipykernel/__main__.py:2: VisibleDeprecationWarning: boolean index did not match indexed array along dimension 0; dimension is 700 but corresponding boolean dimension is 100\n",
      "  from ipykernel import kernelapp as app\n"
     ]
    },
    {
     "data": {
      "image/png": "[encoded data removed]",
      "text/plain": [
       "<matplotlib.figure.Figure at 0x1131e5c10>"
      ]
     },
     "metadata": {},
     "output_type": "display_data"
    }
   ],
   "source": [
    "edges = [0, 0.125, 0.25, 0.4]\n",
    "plt.boxplot([pya[(pxa > lower) & (pxa <= upper)] for lower, upper in zip(edges[:-1], edges[1:])]);"
   ]
  },
  {
   "cell_type": "code",
   "execution_count": 34,
   "metadata": {
    "collapsed": false
   },
   "outputs": [
    {
     "data": {
      "image/png": "[encoded data removed]",
      "text/plain": [
       "<matplotlib.figure.Figure at 0x112a52c90>"
      ]
     },
     "metadata": {},
     "output_type": "display_data"
    }
   ],
   "source": [
    "# randomness is necessary, but not much - it's generally a negative trend\n",
    "# the right amount is the smallest amount possible that has any effect\n",
    "\n",
    "y_pred = regr.predict(h_model_data[h_model_data['Season'] == holdout_season][['beta']])\n",
    "\n",
    "axis_feature = 'beta'\n",
    "\n",
    "plt.figure()\n",
    "px, py = zip(*sorted(zip(X[axis_feature], y)))\n",
    "plt.scatter(px, py, c=\"k\", label=\"training samples\")\n",
    "px, py_pred = zip(*sorted(zip(X[axis_feature], y_pred)))\n",
    "plt.scatter(px, py_pred, c=\"r\", label=\"n_estimators=300\")\n",
    "plt.xlabel(axis_feature)\n",
    "plt.ylabel(\"target\")\n",
    "plt.title(\"Boosted Decision Tree Regression\")\n",
    "plt.legend(bbox_to_anchor=(1.5, 1.0))\n",
    "plt.show()"
   ]
  },
  {
   "cell_type": "code",
   "execution_count": 44,
   "metadata": {
    "collapsed": false
   },
   "outputs": [
    {
     "name": "stderr",
     "output_type": "stream",
     "text": [
      "/Users/rsharp/PROJECTS/rws_project_python/lib/python2.7/site-packages/ipykernel/__main__.py:2: VisibleDeprecationWarning: boolean index did not match indexed array along dimension 0; dimension is 700 but corresponding boolean dimension is 100\n",
      "  from ipykernel import kernelapp as app\n"
     ]
    },
    {
     "data": {
      "image/png": "[encoded data removed]",
      "text/plain": [
       "<matplotlib.figure.Figure at 0x11352ba10>"
      ]
     },
     "metadata": {},
     "output_type": "display_data"
    }
   ],
   "source": [
    "edges = [0, 0.125, 0.25, 0.4]\n",
    "plt.boxplot([pya[(pxa > lower) & (pxa <= upper)] for lower, upper in zip(edges[:-1], edges[1:])]);"
   ]
  },
  {
   "cell_type": "code",
   "execution_count": 20,
   "metadata": {
    "collapsed": false
   },
   "outputs": [
    {
     "data": {
      "image/png": "[encoded data removed]",
      "text/plain": [
       "<matplotlib.figure.Figure at 0x112c6f190>"
      ]
     },
     "metadata": {},
     "output_type": "display_data"
    }
   ],
   "source": [
    "# randomness is necessary, but not much - it's generally a negative trend\n",
    "# the right amount is the smallest amount possible that has any effect\n",
    "\n",
    "y_pred = regr.predict(h_model_data[h_model_data['Season'] == holdout_season][['beta']])\n",
    "\n",
    "axis_feature = 'beta'\n",
    "\n",
    "plt.figure()\n",
    "px, py = zip(*sorted(zip(X[axis_feature], y)))\n",
    "plt.scatter(px, py, c=\"k\", label=\"training samples\")\n",
    "px, py_pred = zip(*sorted(zip(X[axis_feature], y_pred)))\n",
    "plt.scatter(px, py_pred, c=\"r\", label=\"n_estimators=300\")\n",
    "plt.xlabel(axis_feature)\n",
    "plt.ylabel(\"target\")\n",
    "plt.title(\"Boosted Decision Tree Regression\")\n",
    "plt.legend(bbox_to_anchor=(1.5, 1.0))\n",
    "plt.show()"
   ]
  },
  {
   "cell_type": "code",
   "execution_count": null,
   "metadata": {
    "collapsed": false
   },
   "outputs": [],
   "source": [
    "# what happens with a positive ocrrelation on streaks?\n",
    "\n",
    "y_pred = regr.predict(h_model_data[h_model_data['Season'] == holdout_season][['alpha']])\n",
    "\n",
    "axis_feature = 'alpha'\n",
    "\n",
    "plt.figure()\n",
    "px, py = zip(*sorted(zip(X[axis_feature], y)))\n",
    "plt.scatter(px, py, c=\"k\", label=\"training samples\")\n",
    "px, py_pred = zip(*sorted(zip(X[axis_feature], y_pred)))\n",
    "plt.scatter(px, py_pred, c=\"r\", label=\"n_estimators=300\")\n",
    "plt.xlabel(axis_feature)\n",
    "plt.ylabel(\"target\")\n",
    "plt.title(\"Boosted Decision Tree Regression\")\n",
    "plt.legend(bbox_to_anchor=(1.5, 1.0))\n",
    "plt.show()\n",
    "\n"
   ]
  },
  {
   "cell_type": "code",
   "execution_count": null,
   "metadata": {
    "collapsed": false
   },
   "outputs": [],
   "source": [
    "# what happens with a positive ocrrelation on streaks?\n",
    "\n",
    "y_pred = regr.predict(h_model_data[h_model_data['Season'] == holdout_season][['alpha']])\n",
    "\n",
    "axis_feature = 'alpha'\n",
    "\n",
    "plt.figure()\n",
    "px, py = zip(*sorted(zip(X[axis_feature], y)))\n",
    "plt.scatter(px, py, c=\"k\", label=\"training samples\")\n",
    "px, py_pred = zip(*sorted(zip(X[axis_feature], y_pred)))\n",
    "plt.scatter(px, py_pred, c=\"r\", label=\"n_estimators=300\")\n",
    "plt.xlabel(axis_feature)\n",
    "plt.ylabel(\"target\")\n",
    "plt.title(\"Boosted Decision Tree Regression\")\n",
    "plt.legend(bbox_to_anchor=(1.5, 1.0))\n",
    "plt.show()\n",
    "\n"
   ]
  },
  {
   "cell_type": "code",
   "execution_count": null,
   "metadata": {
    "collapsed": false
   },
   "outputs": [],
   "source": [
    "# only use a dash of randomness\n",
    "# randomnes is a binary question\n",
    "\n",
    "y_pred = regr.predict(h_model_data[h_model_data['Season'] == holdout_season][['beta']])\n",
    "\n",
    "axis_feature = 'beta'\n",
    "\n",
    "plt.figure()\n",
    "px, py = zip(*sorted(zip(X[axis_feature], y)))\n",
    "plt.scatter(px, py, c=\"k\", label=\"training samples\")\n",
    "px, py_pred = zip(*sorted(zip(X[axis_feature], y_pred)))\n",
    "plt.scatter(px, py_pred, c=\"r\", label=\"n_estimators=300\")\n",
    "plt.xlabel(axis_feature)\n",
    "plt.ylabel(\"target\")\n",
    "plt.title(\"Boosted Decision Tree Regression\")\n",
    "plt.legend(bbox_to_anchor=(1.5, 1.0))\n",
    "plt.show()"
   ]
  },
  {
   "cell_type": "code",
   "execution_count": null,
   "metadata": {
    "collapsed": false
   },
   "outputs": [],
   "source": [
    "# randomness is necessary, but not much - it's generally a negative trend\n",
    "# the right amount is the smallest amount possible that has any effect\n",
    "\n",
    "y_pred = regr.predict(h_model_data[h_model_data['Season'] == holdout_season][['beta']])\n",
    "\n",
    "axis_feature = 'beta'\n",
    "\n",
    "plt.figure()\n",
    "px, py = zip(*sorted(zip(X[axis_feature], y)))\n",
    "plt.scatter(px, py, c=\"k\", label=\"training samples\")\n",
    "px, py_pred = zip(*sorted(zip(X[axis_feature], y_pred)))\n",
    "plt.scatter(px, py_pred, c=\"r\", label=\"n_estimators=300\")\n",
    "plt.xlabel(axis_feature)\n",
    "plt.ylabel(\"target\")\n",
    "plt.title(\"Boosted Decision Tree Regression\")\n",
    "plt.legend(bbox_to_anchor=(1.5, 1.0))\n",
    "plt.show()"
   ]
  },
  {
   "cell_type": "code",
   "execution_count": null,
   "metadata": {
    "collapsed": false
   },
   "outputs": [],
   "source": [
    "y_pred = regr.predict(h_model_data[h_model_data['Season'] == holdout_season][['alpha']])\n",
    "\n",
    "axis_feature = 'alpha'\n",
    "\n",
    "plt.figure()\n",
    "px, py = zip(*sorted(zip(X[axis_feature], y)))\n",
    "plt.scatter(px, py, c=\"k\", label=\"training samples\")\n",
    "px, py_pred = zip(*sorted(zip(X[axis_feature], y_pred)))\n",
    "plt.scatter(px, py_pred, c=\"r\", label=\"n_estimators=300\")\n",
    "plt.xlabel(axis_feature)\n",
    "plt.ylabel(\"target\")\n",
    "plt.title(\"Boosted Decision Tree Regression\")\n",
    "plt.legend(bbox_to_anchor=(1.5, 1.0))\n",
    "plt.show()\n",
    "\n"
   ]
  },
  {
   "cell_type": "code",
   "execution_count": null,
   "metadata": {
    "collapsed": false
   },
   "outputs": [],
   "source": [
    "trials = 100\n",
    "\n",
    "beta = 0.05\n",
    "\n",
    "score_data = dict([(f, list()) for f in ['Season', 'alpha', 'beta', 'streak', 'score']])\n",
    "\n",
    "for season in range(2010, 2017+1):\n",
    "    print season\n",
    "    for alpha in [-0.2, -0.1, 0.0]:\n",
    "        for streak_len in [6, 10]:\n",
    "            for i in range(trials):\n",
    "                w = streak[(streak['Season'] == season) & (streak['StreakLen'] == streak_len)] \\\n",
    "                    .merge(polls[['TeamID', 'Season', 'norm_rank', 'noise']], on=['Season', 'TeamID'], how='left') \\\n",
    "                    .sort_values('norm_rank')\n",
    "\n",
    "                w['Rank'] = w['norm_rank'] - alpha*w['streak'] + beta*(numpy.random.random(w.shape[0]) - 0.5)\n",
    "                # w['Rank'] = w['norm_rank'] - alpha*w['streak']\n",
    "                # w['Rank'] = w['norm_rank'] + beta*(numpy.random.random(w.shape[0]) - 0.5)\n",
    "                w['alpha'] = alpha\n",
    "                w['beta'] = beta\n",
    "                w['streak'] = streak_len\n",
    "                w['Season'] = season\n",
    "\n",
    "                score = score_bracket(season, w[['TeamID', 'Rank']], rounds_by_season, weights)\n",
    "\n",
    "                score_data['Season'].append(season)\n",
    "                score_data['alpha'].append(alpha)\n",
    "                score_data['beta'].append(beta)\n",
    "                score_data['streak'].append(streak_len)\n",
    "                score_data['score'].append(score)\n",
    "\n",
    "score_data = pandas.DataFrame(score_data)"
   ]
  },
  {
   "cell_type": "code",
   "execution_count": null,
   "metadata": {
    "collapsed": false
   },
   "outputs": [],
   "source": [
    "gb = score_data.groupby(['Season', 'alpha', 'beta', 'streak'])\n",
    "gb.quantile(0.75)"
   ]
  },
  {
   "cell_type": "code",
   "execution_count": null,
   "metadata": {
    "collapsed": false
   },
   "outputs": [],
   "source": [
    "plt.figure(figsize=(20,10))\n",
    "\n",
    "plt_data = list()\n",
    "\n",
    "for season in range(2010, 2017+1):\n",
    "    #plt_data.append(list(score_data[(score_data['alpha'] ==  0.0) & (score_data['streak'] ==  6) & (score_data['Season'] == season)]['score']))\n",
    "    plt_data.append(list(score_data[(score_data['alpha'] ==  -0.1) & (score_data['streak'] ==  6) & (score_data['Season'] == season)]['score']))\n",
    "    #plt_data.append(list(score_data[(score_data['alpha'] ==  -0.2) & (score_data['streak'] ==  6) & (score_data['Season'] == season)]['score']))\n",
    "\n",
    "    #plt_data.append(list(score_data[(score_data['alpha'] ==  0.0) & (score_data['streak'] ==  10) & (score_data['Season'] == season)]['score']))\n",
    "    plt_data.append(list(score_data[(score_data['alpha'] ==  -0.1) & (score_data['streak'] ==  10) & (score_data['Season'] == season)]['score']))\n",
    "    #plt_data.append(list(score_data[(score_data['alpha'] ==  -0.2) & (score_data['streak'] ==  10) & (score_data['Season'] == season)]['score']))\n",
    "\n",
    "plt.boxplot(plt_data);"
   ]
  }
 ],
 "metadata": {
  "kernelspec": {
   "display_name": "Python 2",
   "language": "python",
   "name": "python2"
  },
  "language_info": {
   "codemirror_mode": {
    "name": "ipython",
    "version": 2
   },
   "file_extension": ".py",
   "mimetype": "text/x-python",
   "name": "python",
   "nbconvert_exporter": "python",
   "pygments_lexer": "ipython2",
   "version": "2.7.11"
  }
 },
 "nbformat": 4,
 "nbformat_minor": 0
}
