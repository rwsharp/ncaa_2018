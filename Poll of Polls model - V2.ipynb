{
 "cells": [
  {
   "cell_type": "code",
   "execution_count": 1,
   "metadata": {
    "collapsed": false
   },
   "outputs": [
    {
     "name": "stderr",
     "output_type": "stream",
     "text": [
      "/Users/rsharp/PROJECTS/rws_project_python/lib/python2.7/site-packages/matplotlib/font_manager.py:273: UserWarning: Matplotlib is building the font cache using fc-list. This may take a moment.\n",
      "  warnings.warn('Matplotlib is building the font cache using fc-list. This may take a moment.')\n"
     ]
    }
   ],
   "source": [
    "%matplotlib inline"
   ]
  },
  {
   "cell_type": "code",
   "execution_count": 2,
   "metadata": {
    "collapsed": false
   },
   "outputs": [],
   "source": [
    "import os\n",
    "import pandas\n",
    "import numpy\n",
    "import sklearn\n",
    "import matplotlib.pyplot as plt\n",
    "from sklearn.tree import DecisionTreeRegressor\n",
    "from sklearn.ensemble import AdaBoostRegressor\n"
   ]
  },
  {
   "cell_type": "code",
   "execution_count": 3,
   "metadata": {
    "collapsed": false
   },
   "outputs": [
    {
     "data": {
      "text/html": [
       "<div>\n",
       "<table border=\"1\" class=\"dataframe\">\n",
       "  <thead>\n",
       "    <tr style=\"text-align: right;\">\n",
       "      <th></th>\n",
       "      <th>TeamID</th>\n",
       "      <th>TeamName</th>\n",
       "      <th>FirstD1Season</th>\n",
       "      <th>LastD1Season</th>\n",
       "    </tr>\n",
       "  </thead>\n",
       "  <tbody>\n",
       "    <tr>\n",
       "      <th>0</th>\n",
       "      <td>1101</td>\n",
       "      <td>Abilene Chr</td>\n",
       "      <td>2014</td>\n",
       "      <td>2018</td>\n",
       "    </tr>\n",
       "    <tr>\n",
       "      <th>1</th>\n",
       "      <td>1102</td>\n",
       "      <td>Air Force</td>\n",
       "      <td>1985</td>\n",
       "      <td>2018</td>\n",
       "    </tr>\n",
       "    <tr>\n",
       "      <th>2</th>\n",
       "      <td>1103</td>\n",
       "      <td>Akron</td>\n",
       "      <td>1985</td>\n",
       "      <td>2018</td>\n",
       "    </tr>\n",
       "    <tr>\n",
       "      <th>3</th>\n",
       "      <td>1104</td>\n",
       "      <td>Alabama</td>\n",
       "      <td>1985</td>\n",
       "      <td>2018</td>\n",
       "    </tr>\n",
       "    <tr>\n",
       "      <th>4</th>\n",
       "      <td>1105</td>\n",
       "      <td>Alabama A&amp;M</td>\n",
       "      <td>2000</td>\n",
       "      <td>2018</td>\n",
       "    </tr>\n",
       "  </tbody>\n",
       "</table>\n",
       "</div>"
      ],
      "text/plain": [
       "   TeamID     TeamName  FirstD1Season  LastD1Season\n",
       "0    1101  Abilene Chr           2014          2018\n",
       "1    1102    Air Force           1985          2018\n",
       "2    1103        Akron           1985          2018\n",
       "3    1104      Alabama           1985          2018\n",
       "4    1105  Alabama A&M           2000          2018"
      ]
     },
     "execution_count": 3,
     "metadata": {},
     "output_type": "execute_result"
    }
   ],
   "source": [
    "# Map team names to Kaggle team IDs\n",
    "input_file_name = 'data/kaggle_2018/DataFiles/Teams.csv'\n",
    "teams = pandas.read_csv(input_file_name)\n",
    "teams[:5]"
   ]
  },
  {
   "cell_type": "code",
   "execution_count": 4,
   "metadata": {
    "collapsed": false
   },
   "outputs": [],
   "source": [
    "data_path = os.path.realpath('data/prepared_data')\n",
    "data_file_name = 'combined_rankers.csv'\n",
    "data_full_path = os.path.join(data_path, data_file_name)\n",
    "\n",
    "historical_ranker_list_file_name = 'all_valid_rankers.txt'\n",
    "\n",
    "with open(os.path.join(data_path, historical_ranker_list_file_name), 'r') as input_file:\n",
    "    historical_ranker_list = map(lambda s: s.strip(), input_file.readlines())\n",
    "\n",
    "schema = {'name': str,\n",
    "          'label': float,\n",
    "          'date': int\n",
    "          }\n",
    "\n",
    "schema.update(dict([(rnk, float) for rnk in historical_ranker_list]))\n",
    "\n",
    "data = pandas.read_csv(data_full_path,\n",
    "                       header=0,\n",
    "                       dtype=schema) \\\n",
    "             .drop('Unnamed: 0', axis=1)\n",
    "    "
   ]
  },
  {
   "cell_type": "code",
   "execution_count": 5,
   "metadata": {
    "collapsed": false
   },
   "outputs": [
    {
     "name": "stdout",
     "output_type": "stream",
     "text": [
      "2010\n",
      "2011\n",
      "2012\n",
      "2013\n",
      "2014\n",
      "2015\n",
      "2016\n",
      "2017\n",
      "2018\n"
     ]
    }
   ],
   "source": [
    "\n",
    "combined_df = None\n",
    "\n",
    "for season in range(2010, 2018+1):\n",
    "    print season\n",
    "    \n",
    "    if season == 2018:\n",
    "        #latest_rankings_file_name = 'data/massey_2018/rankings_through_20180304.clean.csv'\n",
    "        latest_rankings_file_name = 'data/massey_2018/rankings_through_20180311.clean.csv'\n",
    "        latest_rankings = pandas.read_csv(latest_rankings_file_name).drop('Unnamed: 0', axis=1)\n",
    "    else:\n",
    "        latest_rankings_file_name = 'data/rankings/{}_composite_rankings.clean.csv'.format(season)\n",
    "        latest_rankings = pandas.read_csv(latest_rankings_file_name, sep='|').drop('Unnamed: 0', axis=1)\n",
    "\n",
    "    ranker_list = list(set(historical_ranker_list).intersection(set(latest_rankings.columns)))\n",
    "\n",
    "    regr = AdaBoostRegressor(DecisionTreeRegressor(max_depth=6), n_estimators=500)\n",
    "\n",
    "    X = data[ranker_list]\n",
    "    y = data['label']\n",
    "\n",
    "    regr.fit(X, y)\n",
    "\n",
    "    latest_model_rank = regr.predict(latest_rankings[ranker_list])\n",
    "    model_rank = latest_rankings[['Team']].join(pandas.DataFrame({'rank': latest_model_rank}))\n",
    "\n",
    "    team_name_map = {'UC Santa Barbara': 'Santa Barbara',\n",
    "                     'Cal Poly': 'Cal Poly SLO',\n",
    "                     'SIUE': 'Edwardsville',\n",
    "                     'W Kentucky': 'WKU',\n",
    "                     'Middle Tenn St': 'MTSU',\n",
    "                     'N Arizona': 'Northern Arizona',\n",
    "                     'IUPU Ft Wayne': 'IPFW',\n",
    "                     'Utah Val St': 'Utah Valley',\n",
    "                     'TX Pan American': 'UTRGV',\n",
    "                     'MD Baltimore Co': 'UMBC'\n",
    "                     }\n",
    "    \n",
    "    for name, replacement in team_name_map.iteritems():\n",
    "        model_rank.loc[model_rank['Team'] == name, 'Team'] = replacement\n",
    "\n",
    "    df = model_rank.merge(teams[['TeamID', 'TeamName']], left_on='Team', right_on='TeamName', how='left') \\\n",
    "                   .drop('TeamName', axis=1) \\\n",
    "                   .sort_values('rank')\n",
    "\n",
    "    # double check that we captured all of the teams\n",
    "    if df[df['TeamID'].isnull()].shape[0] > 0:\n",
    "        print 'Teams missing TeamID...'\n",
    "        print df[df['TeamID'].isnull()]\n",
    "\n",
    "    z_min = df['rank'][:64].min()\n",
    "    z_max = df['rank'][:64].max()\n",
    "    z = z_max - z_min\n",
    "\n",
    "    df['norm_rank'] = ((df['rank'] - z_min)/z)\n",
    "    \n",
    "    df['Season'] = season\n",
    "\n",
    "    if combined_df is None:\n",
    "        combined_df = df.copy()\n",
    "    else:\n",
    "        combined_df = combined_df.append(df.copy())"
   ]
  },
  {
   "cell_type": "code",
   "execution_count": 10,
   "metadata": {
    "collapsed": false
   },
   "outputs": [
    {
     "data": {
      "text/html": [
       "<div>\n",
       "<table border=\"1\" class=\"dataframe\">\n",
       "  <thead>\n",
       "    <tr style=\"text-align: right;\">\n",
       "      <th></th>\n",
       "      <th>Team</th>\n",
       "      <th>rank</th>\n",
       "      <th>TeamID</th>\n",
       "      <th>norm_rank</th>\n",
       "      <th>Season</th>\n",
       "      <th>noise</th>\n",
       "    </tr>\n",
       "  </thead>\n",
       "  <tbody>\n",
       "    <tr>\n",
       "      <th>0</th>\n",
       "      <td>Villanova</td>\n",
       "      <td>10.388889</td>\n",
       "      <td>1437</td>\n",
       "      <td>0.000000</td>\n",
       "      <td>2018</td>\n",
       "      <td>-0.020899</td>\n",
       "    </tr>\n",
       "    <tr>\n",
       "      <th>1</th>\n",
       "      <td>Virginia</td>\n",
       "      <td>10.388889</td>\n",
       "      <td>1438</td>\n",
       "      <td>0.000000</td>\n",
       "      <td>2018</td>\n",
       "      <td>0.128211</td>\n",
       "    </tr>\n",
       "    <tr>\n",
       "      <th>3</th>\n",
       "      <td>Cincinnati</td>\n",
       "      <td>10.666667</td>\n",
       "      <td>1153</td>\n",
       "      <td>0.005110</td>\n",
       "      <td>2018</td>\n",
       "      <td>-0.008366</td>\n",
       "    </tr>\n",
       "    <tr>\n",
       "      <th>5</th>\n",
       "      <td>Michigan St</td>\n",
       "      <td>11.000000</td>\n",
       "      <td>1277</td>\n",
       "      <td>0.011243</td>\n",
       "      <td>2018</td>\n",
       "      <td>-0.467991</td>\n",
       "    </tr>\n",
       "    <tr>\n",
       "      <th>6</th>\n",
       "      <td>Kansas</td>\n",
       "      <td>11.250000</td>\n",
       "      <td>1242</td>\n",
       "      <td>0.015842</td>\n",
       "      <td>2018</td>\n",
       "      <td>-0.105488</td>\n",
       "    </tr>\n",
       "    <tr>\n",
       "      <th>2</th>\n",
       "      <td>Duke</td>\n",
       "      <td>12.000000</td>\n",
       "      <td>1181</td>\n",
       "      <td>0.029640</td>\n",
       "      <td>2018</td>\n",
       "      <td>-0.462720</td>\n",
       "    </tr>\n",
       "    <tr>\n",
       "      <th>7</th>\n",
       "      <td>North Carolina</td>\n",
       "      <td>12.500000</td>\n",
       "      <td>1314</td>\n",
       "      <td>0.038838</td>\n",
       "      <td>2018</td>\n",
       "      <td>-0.373332</td>\n",
       "    </tr>\n",
       "    <tr>\n",
       "      <th>4</th>\n",
       "      <td>Purdue</td>\n",
       "      <td>12.750000</td>\n",
       "      <td>1345</td>\n",
       "      <td>0.043437</td>\n",
       "      <td>2018</td>\n",
       "      <td>-0.126075</td>\n",
       "    </tr>\n",
       "  </tbody>\n",
       "</table>\n",
       "</div>"
      ],
      "text/plain": [
       "             Team       rank  TeamID  norm_rank  Season     noise\n",
       "0       Villanova  10.388889    1437   0.000000    2018 -0.020899\n",
       "1        Virginia  10.388889    1438   0.000000    2018  0.128211\n",
       "3      Cincinnati  10.666667    1153   0.005110    2018 -0.008366\n",
       "5     Michigan St  11.000000    1277   0.011243    2018 -0.467991\n",
       "6          Kansas  11.250000    1242   0.015842    2018 -0.105488\n",
       "2            Duke  12.000000    1181   0.029640    2018 -0.462720\n",
       "7  North Carolina  12.500000    1314   0.038838    2018 -0.373332\n",
       "4          Purdue  12.750000    1345   0.043437    2018 -0.126075"
      ]
     },
     "execution_count": 10,
     "metadata": {},
     "output_type": "execute_result"
    }
   ],
   "source": [
    "combined_df[combined_df['Season'] == 2018][:8]"
   ]
  },
  {
   "cell_type": "code",
   "execution_count": 7,
   "metadata": {
    "collapsed": false
   },
   "outputs": [
    {
     "name": "stdout",
     "output_type": "stream",
     "text": [
      "IUPUI\n"
     ]
    }
   ],
   "source": [
    "# In case some teams are missing, here's some code to search for modified spellings\n",
    "for tn in teams[['TeamName']].sort_values('TeamName').iterrows():\n",
    "    x = tn[1]['TeamName']\n",
    "    if x.lower().find('IUP'.lower()) > -1:\n",
    "        print x\n"
   ]
  },
  {
   "cell_type": "code",
   "execution_count": 8,
   "metadata": {
    "collapsed": false
   },
   "outputs": [],
   "source": [
    "bracket_file_name = 'bracket.poll_of_polls.csv'\n",
    "full_bracket_file_name = 'full_bracket.poll_of_polls.csv'\n",
    "\n",
    "# break ties with some scaled noise\n",
    "combined_df['noise'] = numpy.random.random(combined_df.shape[0]) - 0.5\n",
    "\n",
    "# df[['TeamID', 'rank']].to_csv(bracket_file_name, header=False, sep=' ', index=False)\n",
    "combined_df.to_csv(full_bracket_file_name, header=True, sep='|', index=False)"
   ]
  },
  {
   "cell_type": "code",
   "execution_count": null,
   "metadata": {
    "collapsed": false
   },
   "outputs": [],
   "source": []
  }
 ],
 "metadata": {
  "kernelspec": {
   "display_name": "Python 2",
   "language": "python",
   "name": "python2"
  },
  "language_info": {
   "codemirror_mode": {
    "name": "ipython",
    "version": 2
   },
   "file_extension": ".py",
   "mimetype": "text/x-python",
   "name": "python",
   "nbconvert_exporter": "python",
   "pygments_lexer": "ipython2",
   "version": "2.7.11"
  }
 },
 "nbformat": 4,
 "nbformat_minor": 0
}
