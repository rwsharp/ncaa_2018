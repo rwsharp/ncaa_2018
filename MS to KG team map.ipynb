{
 "cells": [
  {
   "cell_type": "code",
   "execution_count": 11,
   "metadata": {
    "collapsed": true
   },
   "outputs": [],
   "source": [
    "import pandas\n",
    "import re"
   ]
  },
  {
   "cell_type": "code",
   "execution_count": 5,
   "metadata": {
    "collapsed": false
   },
   "outputs": [
    {
     "data": {
      "text/html": [
       "<div>\n",
       "<table border=\"1\" class=\"dataframe\">\n",
       "  <thead>\n",
       "    <tr style=\"text-align: right;\">\n",
       "      <th></th>\n",
       "      <th>name</th>\n",
       "      <th>team</th>\n",
       "    </tr>\n",
       "  </thead>\n",
       "  <tbody>\n",
       "    <tr>\n",
       "      <th>0</th>\n",
       "      <td>Abilene_Chr</td>\n",
       "      <td>1</td>\n",
       "    </tr>\n",
       "    <tr>\n",
       "      <th>1</th>\n",
       "      <td>Air_Force</td>\n",
       "      <td>2</td>\n",
       "    </tr>\n",
       "    <tr>\n",
       "      <th>2</th>\n",
       "      <td>Akron</td>\n",
       "      <td>3</td>\n",
       "    </tr>\n",
       "    <tr>\n",
       "      <th>3</th>\n",
       "      <td>Alabama</td>\n",
       "      <td>4</td>\n",
       "    </tr>\n",
       "    <tr>\n",
       "      <th>4</th>\n",
       "      <td>Alabama_A&amp;M</td>\n",
       "      <td>5</td>\n",
       "    </tr>\n",
       "  </tbody>\n",
       "</table>\n",
       "</div>"
      ],
      "text/plain": [
       "          name  team\n",
       "0  Abilene_Chr     1\n",
       "1    Air_Force     2\n",
       "2        Akron     3\n",
       "3      Alabama     4\n",
       "4  Alabama_A&M     5"
      ]
     },
     "execution_count": 5,
     "metadata": {},
     "output_type": "execute_result"
    }
   ],
   "source": [
    "season = 2015\n",
    "ms_teams_file = 'data/game_scores/teams_{}.csv'.format(season)\n",
    "ms_teams = pandas.read_csv(ms_teams_file, sep=',').drop('Unnamed: 0', axis=1)\n",
    "\n",
    "ms_teams[:5]"
   ]
  },
  {
   "cell_type": "code",
   "execution_count": 9,
   "metadata": {
    "collapsed": false
   },
   "outputs": [
    {
     "data": {
      "text/html": [
       "<div>\n",
       "<table border=\"1\" class=\"dataframe\">\n",
       "  <thead>\n",
       "    <tr style=\"text-align: right;\">\n",
       "      <th></th>\n",
       "      <th>TeamID</th>\n",
       "      <th>TeamName</th>\n",
       "      <th>FirstD1Season</th>\n",
       "      <th>LastD1Season</th>\n",
       "    </tr>\n",
       "  </thead>\n",
       "  <tbody>\n",
       "    <tr>\n",
       "      <th>0</th>\n",
       "      <td>1101</td>\n",
       "      <td>Abilene Chr</td>\n",
       "      <td>2014</td>\n",
       "      <td>2018</td>\n",
       "    </tr>\n",
       "    <tr>\n",
       "      <th>1</th>\n",
       "      <td>1102</td>\n",
       "      <td>Air Force</td>\n",
       "      <td>1985</td>\n",
       "      <td>2018</td>\n",
       "    </tr>\n",
       "    <tr>\n",
       "      <th>2</th>\n",
       "      <td>1103</td>\n",
       "      <td>Akron</td>\n",
       "      <td>1985</td>\n",
       "      <td>2018</td>\n",
       "    </tr>\n",
       "    <tr>\n",
       "      <th>3</th>\n",
       "      <td>1104</td>\n",
       "      <td>Alabama</td>\n",
       "      <td>1985</td>\n",
       "      <td>2018</td>\n",
       "    </tr>\n",
       "    <tr>\n",
       "      <th>4</th>\n",
       "      <td>1105</td>\n",
       "      <td>Alabama A&amp;M</td>\n",
       "      <td>2000</td>\n",
       "      <td>2018</td>\n",
       "    </tr>\n",
       "  </tbody>\n",
       "</table>\n",
       "</div>"
      ],
      "text/plain": [
       "   TeamID     TeamName  FirstD1Season  LastD1Season\n",
       "0    1101  Abilene Chr           2014          2018\n",
       "1    1102    Air Force           1985          2018\n",
       "2    1103        Akron           1985          2018\n",
       "3    1104      Alabama           1985          2018\n",
       "4    1105  Alabama A&M           2000          2018"
      ]
     },
     "execution_count": 9,
     "metadata": {},
     "output_type": "execute_result"
    }
   ],
   "source": [
    "kg_teams_file = 'data/kaggle_2018/DataFiles/Teams.csv'\n",
    "kg_teams = pandas.read_csv(kg_teams_file)\n",
    "kg_teams[:5]"
   ]
  },
  {
   "cell_type": "code",
   "execution_count": 10,
   "metadata": {
    "collapsed": false
   },
   "outputs": [
    {
     "data": {
      "text/plain": [
       "((351, 2), (364, 4))"
      ]
     },
     "execution_count": 10,
     "metadata": {},
     "output_type": "execute_result"
    }
   ],
   "source": [
    "ms_teams.shape, kg_teams.shape"
   ]
  },
  {
   "cell_type": "code",
   "execution_count": 22,
   "metadata": {
    "collapsed": false
   },
   "outputs": [
    {
     "data": {
      "text/html": [
       "<div>\n",
       "<table border=\"1\" class=\"dataframe\">\n",
       "  <thead>\n",
       "    <tr style=\"text-align: right;\">\n",
       "      <th></th>\n",
       "      <th>name</th>\n",
       "      <th>team</th>\n",
       "      <th>TeamName</th>\n",
       "    </tr>\n",
       "  </thead>\n",
       "  <tbody>\n",
       "    <tr>\n",
       "      <th>0</th>\n",
       "      <td>Abilene_Chr</td>\n",
       "      <td>1</td>\n",
       "      <td>Abilene Chr</td>\n",
       "    </tr>\n",
       "    <tr>\n",
       "      <th>1</th>\n",
       "      <td>Air_Force</td>\n",
       "      <td>2</td>\n",
       "      <td>Air Force</td>\n",
       "    </tr>\n",
       "    <tr>\n",
       "      <th>2</th>\n",
       "      <td>Akron</td>\n",
       "      <td>3</td>\n",
       "      <td>Akron</td>\n",
       "    </tr>\n",
       "    <tr>\n",
       "      <th>3</th>\n",
       "      <td>Alabama</td>\n",
       "      <td>4</td>\n",
       "      <td>Alabama</td>\n",
       "    </tr>\n",
       "    <tr>\n",
       "      <th>4</th>\n",
       "      <td>Alabama_A&amp;M</td>\n",
       "      <td>5</td>\n",
       "      <td>Alabama A&amp;M</td>\n",
       "    </tr>\n",
       "  </tbody>\n",
       "</table>\n",
       "</div>"
      ],
      "text/plain": [
       "          name  team     TeamName\n",
       "0  Abilene_Chr     1  Abilene Chr\n",
       "1    Air_Force     2    Air Force\n",
       "2        Akron     3        Akron\n",
       "3      Alabama     4      Alabama\n",
       "4  Alabama_A&M     5  Alabama A&M"
      ]
     },
     "execution_count": 22,
     "metadata": {},
     "output_type": "execute_result"
    }
   ],
   "source": [
    "def name_xform(name):\n",
    "    team_name_map = {'UC Santa Barbara': 'Santa Barbara',\n",
    "                 'Cal Poly': 'Cal Poly SLO',\n",
    "                 'SIUE': 'Edwardsville'}\n",
    "    \n",
    "    name = re.sub('_', ' ', name)\n",
    "    name = team_name_map.get(name, name)\n",
    "\n",
    "    return name\n",
    "    \n",
    "    \n",
    "ms_teams['TeamName'] = ms_teams['name'].apply(name_xform)\n",
    "ms_teams[:5]"
   ]
  },
  {
   "cell_type": "code",
   "execution_count": 23,
   "metadata": {
    "collapsed": false
   },
   "outputs": [
    {
     "data": {
      "text/html": [
       "<div>\n",
       "<table border=\"1\" class=\"dataframe\">\n",
       "  <thead>\n",
       "    <tr style=\"text-align: right;\">\n",
       "      <th></th>\n",
       "      <th>name</th>\n",
       "      <th>team</th>\n",
       "      <th>TeamName</th>\n",
       "      <th>TeamID</th>\n",
       "    </tr>\n",
       "  </thead>\n",
       "  <tbody>\n",
       "    <tr>\n",
       "      <th>0</th>\n",
       "      <td>Abilene_Chr</td>\n",
       "      <td>1</td>\n",
       "      <td>Abilene Chr</td>\n",
       "      <td>1101</td>\n",
       "    </tr>\n",
       "    <tr>\n",
       "      <th>1</th>\n",
       "      <td>Air_Force</td>\n",
       "      <td>2</td>\n",
       "      <td>Air Force</td>\n",
       "      <td>1102</td>\n",
       "    </tr>\n",
       "    <tr>\n",
       "      <th>2</th>\n",
       "      <td>Akron</td>\n",
       "      <td>3</td>\n",
       "      <td>Akron</td>\n",
       "      <td>1103</td>\n",
       "    </tr>\n",
       "    <tr>\n",
       "      <th>3</th>\n",
       "      <td>Alabama</td>\n",
       "      <td>4</td>\n",
       "      <td>Alabama</td>\n",
       "      <td>1104</td>\n",
       "    </tr>\n",
       "    <tr>\n",
       "      <th>4</th>\n",
       "      <td>Alabama_A&amp;M</td>\n",
       "      <td>5</td>\n",
       "      <td>Alabama A&amp;M</td>\n",
       "      <td>1105</td>\n",
       "    </tr>\n",
       "  </tbody>\n",
       "</table>\n",
       "</div>"
      ],
      "text/plain": [
       "          name  team     TeamName  TeamID\n",
       "0  Abilene_Chr     1  Abilene Chr    1101\n",
       "1    Air_Force     2    Air Force    1102\n",
       "2        Akron     3        Akron    1103\n",
       "3      Alabama     4      Alabama    1104\n",
       "4  Alabama_A&M     5  Alabama A&M    1105"
      ]
     },
     "execution_count": 23,
     "metadata": {},
     "output_type": "execute_result"
    }
   ],
   "source": [
    "combined_teams = ms_teams.merge(kg_teams[['TeamName', 'TeamID']], on='TeamName', how='left')\n",
    "combined_teams[:5]"
   ]
  },
  {
   "cell_type": "code",
   "execution_count": 24,
   "metadata": {
    "collapsed": false
   },
   "outputs": [
    {
     "data": {
      "text/html": [
       "<div>\n",
       "<table border=\"1\" class=\"dataframe\">\n",
       "  <thead>\n",
       "    <tr style=\"text-align: right;\">\n",
       "      <th></th>\n",
       "      <th>name</th>\n",
       "      <th>team</th>\n",
       "      <th>TeamName</th>\n",
       "      <th>TeamID</th>\n",
       "    </tr>\n",
       "  </thead>\n",
       "  <tbody>\n",
       "  </tbody>\n",
       "</table>\n",
       "</div>"
      ],
      "text/plain": [
       "Empty DataFrame\n",
       "Columns: [name, team, TeamName, TeamID]\n",
       "Index: []"
      ]
     },
     "execution_count": 24,
     "metadata": {},
     "output_type": "execute_result"
    }
   ],
   "source": [
    "# Check for ms_teams that are missing a kg_team\n",
    "# Have to find aliases and add them to name_xform until none are missing\n",
    "combined_teams[combined_teams['TeamID'].isnull()]"
   ]
  },
  {
   "cell_type": "code",
   "execution_count": 25,
   "metadata": {
    "collapsed": false
   },
   "outputs": [
    {
     "data": {
      "text/html": [
       "<div>\n",
       "<table border=\"1\" class=\"dataframe\">\n",
       "  <thead>\n",
       "    <tr style=\"text-align: right;\">\n",
       "      <th></th>\n",
       "      <th>TeamID</th>\n",
       "      <th>TeamName</th>\n",
       "      <th>FirstD1Season</th>\n",
       "      <th>LastD1Season</th>\n",
       "    </tr>\n",
       "  </thead>\n",
       "  <tbody>\n",
       "    <tr>\n",
       "      <th>8</th>\n",
       "      <td>1109</td>\n",
       "      <td>Alliant Intl</td>\n",
       "      <td>1985</td>\n",
       "      <td>1991</td>\n",
       "    </tr>\n",
       "    <tr>\n",
       "      <th>17</th>\n",
       "      <td>1118</td>\n",
       "      <td>Armstrong St</td>\n",
       "      <td>1987</td>\n",
       "      <td>1987</td>\n",
       "    </tr>\n",
       "    <tr>\n",
       "      <th>20</th>\n",
       "      <td>1121</td>\n",
       "      <td>Augusta</td>\n",
       "      <td>1985</td>\n",
       "      <td>1991</td>\n",
       "    </tr>\n",
       "    <tr>\n",
       "      <th>27</th>\n",
       "      <td>1128</td>\n",
       "      <td>Birmingham So</td>\n",
       "      <td>2003</td>\n",
       "      <td>2006</td>\n",
       "    </tr>\n",
       "    <tr>\n",
       "      <th>33</th>\n",
       "      <td>1134</td>\n",
       "      <td>Brooklyn</td>\n",
       "      <td>1985</td>\n",
       "      <td>1992</td>\n",
       "    </tr>\n",
       "    <tr>\n",
       "      <th>46</th>\n",
       "      <td>1147</td>\n",
       "      <td>Centenary</td>\n",
       "      <td>1985</td>\n",
       "      <td>2011</td>\n",
       "    </tr>\n",
       "    <tr>\n",
       "      <th>114</th>\n",
       "      <td>1215</td>\n",
       "      <td>Hardin-Simmons</td>\n",
       "      <td>1985</td>\n",
       "      <td>1990</td>\n",
       "    </tr>\n",
       "    <tr>\n",
       "      <th>188</th>\n",
       "      <td>1289</td>\n",
       "      <td>Morris Brown</td>\n",
       "      <td>2002</td>\n",
       "      <td>2003</td>\n",
       "    </tr>\n",
       "    <tr>\n",
       "      <th>201</th>\n",
       "      <td>1302</td>\n",
       "      <td>NE Illinois</td>\n",
       "      <td>1991</td>\n",
       "      <td>1998</td>\n",
       "    </tr>\n",
       "    <tr>\n",
       "      <th>226</th>\n",
       "      <td>1327</td>\n",
       "      <td>Okla City</td>\n",
       "      <td>1985</td>\n",
       "      <td>1985</td>\n",
       "    </tr>\n",
       "    <tr>\n",
       "      <th>331</th>\n",
       "      <td>1432</td>\n",
       "      <td>Utica</td>\n",
       "      <td>1985</td>\n",
       "      <td>1987</td>\n",
       "    </tr>\n",
       "    <tr>\n",
       "      <th>344</th>\n",
       "      <td>1445</td>\n",
       "      <td>W Salem St</td>\n",
       "      <td>2007</td>\n",
       "      <td>2010</td>\n",
       "    </tr>\n",
       "    <tr>\n",
       "      <th>345</th>\n",
       "      <td>1446</td>\n",
       "      <td>W Texas A&amp;M</td>\n",
       "      <td>1985</td>\n",
       "      <td>1986</td>\n",
       "    </tr>\n",
       "  </tbody>\n",
       "</table>\n",
       "</div>"
      ],
      "text/plain": [
       "     TeamID        TeamName  FirstD1Season  LastD1Season\n",
       "8      1109    Alliant Intl           1985          1991\n",
       "17     1118    Armstrong St           1987          1987\n",
       "20     1121         Augusta           1985          1991\n",
       "27     1128   Birmingham So           2003          2006\n",
       "33     1134        Brooklyn           1985          1992\n",
       "46     1147       Centenary           1985          2011\n",
       "114    1215  Hardin-Simmons           1985          1990\n",
       "188    1289    Morris Brown           2002          2003\n",
       "201    1302     NE Illinois           1991          1998\n",
       "226    1327       Okla City           1985          1985\n",
       "331    1432           Utica           1985          1987\n",
       "344    1445      W Salem St           2007          2010\n",
       "345    1446     W Texas A&M           1985          1986"
      ]
     },
     "execution_count": 25,
     "metadata": {},
     "output_type": "execute_result"
    }
   ],
   "source": [
    "# Check for kg_teams that are missing a ms_team\n",
    "# Not usually a big deal - usually teams that were not D1 in the season in question\n",
    "kg_teams[~kg_teams['TeamName'].isin(ms_teams['TeamName'])]"
   ]
  },
  {
   "cell_type": "code",
   "execution_count": null,
   "metadata": {
    "collapsed": true
   },
   "outputs": [],
   "source": [
    "def name_xform(name):\n",
    "    team_name_map = {'UC Santa Barbara': 'Santa Barbara',\n",
    "                 'Cal Poly': 'Cal Poly SLO',\n",
    "                 'SIUE': 'Edwardsville'}\n",
    "    \n",
    "    name = re.sub('_', ' ', name)\n",
    "    name = team_name_map.get(name, name)\n",
    "\n",
    "    return name"
   ]
  },
  {
   "cell_type": "code",
   "execution_count": 39,
   "metadata": {
    "collapsed": false
   },
   "outputs": [
    {
     "name": "stdout",
     "output_type": "stream",
     "text": [
      "Teams missing in 2008: 0\n",
      "Teams missing in 2009: 0\n",
      "Teams missing in 2010: 0\n",
      "Teams missing in 2011: 0\n",
      "Teams missing in 2012: 0\n",
      "Teams missing in 2013: 0\n",
      "Teams missing in 2014: 0\n",
      "Teams missing in 2015: 0\n",
      "Teams missing in 2016: 0\n",
      "Teams missing in 2017: 0\n",
      "Teams missing in 2018: 0\n"
     ]
    }
   ],
   "source": [
    "combined_teams = list()\n",
    "\n",
    "for season in range(2008, 2018 + 1):\n",
    "    ms_teams_file = 'data/game_scores/teams_{}.csv'.format(season)\n",
    "    ms_teams = pandas.read_csv(ms_teams_file, sep=',').drop('Unnamed: 0', axis=1)\n",
    "\n",
    "    ms_teams['Season'] = season\n",
    "    ms_teams['TeamName'] = ms_teams['name'].apply(name_xform)\n",
    "    \n",
    "    combined_teams.append(ms_teams.merge(kg_teams[['TeamName', 'TeamID']], on='TeamName', how='left'))\n",
    "\n",
    "    print 'Teams missing in {}: {}'.format(season, combined_teams[-1][combined_teams[-1]['TeamID'].isnull()].shape[0])\n",
    "    \n",
    "teams = combined_teams[0].append(combined_teams[1:])\n",
    "teams = teams.drop_duplicates().reset_index()"
   ]
  },
  {
   "cell_type": "code",
   "execution_count": 44,
   "metadata": {
    "collapsed": false
   },
   "outputs": [
    {
     "data": {
      "text/html": [
       "<div>\n",
       "<table border=\"1\" class=\"dataframe\">\n",
       "  <thead>\n",
       "    <tr style=\"text-align: right;\">\n",
       "      <th></th>\n",
       "      <th>index</th>\n",
       "      <th>name</th>\n",
       "      <th>team</th>\n",
       "      <th>Season</th>\n",
       "      <th>TeamName</th>\n",
       "      <th>TeamID</th>\n",
       "    </tr>\n",
       "  </thead>\n",
       "  <tbody>\n",
       "    <tr>\n",
       "      <th>2073</th>\n",
       "      <td>0</td>\n",
       "      <td>Abilene_Chr</td>\n",
       "      <td>1</td>\n",
       "      <td>2014</td>\n",
       "      <td>Abilene Chr</td>\n",
       "      <td>1101</td>\n",
       "    </tr>\n",
       "    <tr>\n",
       "      <th>2424</th>\n",
       "      <td>0</td>\n",
       "      <td>Abilene_Chr</td>\n",
       "      <td>1</td>\n",
       "      <td>2015</td>\n",
       "      <td>Abilene Chr</td>\n",
       "      <td>1101</td>\n",
       "    </tr>\n",
       "    <tr>\n",
       "      <th>2775</th>\n",
       "      <td>0</td>\n",
       "      <td>Abilene_Chr</td>\n",
       "      <td>1</td>\n",
       "      <td>2016</td>\n",
       "      <td>Abilene Chr</td>\n",
       "      <td>1101</td>\n",
       "    </tr>\n",
       "    <tr>\n",
       "      <th>3126</th>\n",
       "      <td>0</td>\n",
       "      <td>Abilene_Chr</td>\n",
       "      <td>1</td>\n",
       "      <td>2017</td>\n",
       "      <td>Abilene Chr</td>\n",
       "      <td>1101</td>\n",
       "    </tr>\n",
       "    <tr>\n",
       "      <th>3477</th>\n",
       "      <td>0</td>\n",
       "      <td>Abilene_Chr</td>\n",
       "      <td>1</td>\n",
       "      <td>2018</td>\n",
       "      <td>Abilene Chr</td>\n",
       "      <td>1101</td>\n",
       "    </tr>\n",
       "    <tr>\n",
       "      <th>0</th>\n",
       "      <td>0</td>\n",
       "      <td>Air_Force</td>\n",
       "      <td>1</td>\n",
       "      <td>2008</td>\n",
       "      <td>Air Force</td>\n",
       "      <td>1102</td>\n",
       "    </tr>\n",
       "    <tr>\n",
       "      <th>342</th>\n",
       "      <td>0</td>\n",
       "      <td>Air_Force</td>\n",
       "      <td>1</td>\n",
       "      <td>2009</td>\n",
       "      <td>Air Force</td>\n",
       "      <td>1102</td>\n",
       "    </tr>\n",
       "    <tr>\n",
       "      <th>689</th>\n",
       "      <td>0</td>\n",
       "      <td>Air_Force</td>\n",
       "      <td>1</td>\n",
       "      <td>2010</td>\n",
       "      <td>Air Force</td>\n",
       "      <td>1102</td>\n",
       "    </tr>\n",
       "    <tr>\n",
       "      <th>1036</th>\n",
       "      <td>0</td>\n",
       "      <td>Air_Force</td>\n",
       "      <td>1</td>\n",
       "      <td>2011</td>\n",
       "      <td>Air Force</td>\n",
       "      <td>1102</td>\n",
       "    </tr>\n",
       "    <tr>\n",
       "      <th>1381</th>\n",
       "      <td>0</td>\n",
       "      <td>Air_Force</td>\n",
       "      <td>1</td>\n",
       "      <td>2012</td>\n",
       "      <td>Air Force</td>\n",
       "      <td>1102</td>\n",
       "    </tr>\n",
       "  </tbody>\n",
       "</table>\n",
       "</div>"
      ],
      "text/plain": [
       "      index         name  team  Season     TeamName  TeamID\n",
       "2073      0  Abilene_Chr     1    2014  Abilene Chr    1101\n",
       "2424      0  Abilene_Chr     1    2015  Abilene Chr    1101\n",
       "2775      0  Abilene_Chr     1    2016  Abilene Chr    1101\n",
       "3126      0  Abilene_Chr     1    2017  Abilene Chr    1101\n",
       "3477      0  Abilene_Chr     1    2018  Abilene Chr    1101\n",
       "0         0    Air_Force     1    2008    Air Force    1102\n",
       "342       0    Air_Force     1    2009    Air Force    1102\n",
       "689       0    Air_Force     1    2010    Air Force    1102\n",
       "1036      0    Air_Force     1    2011    Air Force    1102\n",
       "1381      0    Air_Force     1    2012    Air Force    1102"
      ]
     },
     "execution_count": 44,
     "metadata": {},
     "output_type": "execute_result"
    }
   ],
   "source": [
    "teams.sort_values(['name', 'Season'])[:10]"
   ]
  },
  {
   "cell_type": "code",
   "execution_count": 45,
   "metadata": {
    "collapsed": true
   },
   "outputs": [],
   "source": [
    "output_file = 'ms_to_kg_team_map.csv'\n",
    "teams.sort_values(['name', 'Season']).to_csv(output_file, sep='|')"
   ]
  }
 ],
 "metadata": {
  "kernelspec": {
   "display_name": "Python 2",
   "language": "python",
   "name": "python2"
  },
  "language_info": {
   "codemirror_mode": {
    "name": "ipython",
    "version": 2
   },
   "file_extension": ".py",
   "mimetype": "text/x-python",
   "name": "python",
   "nbconvert_exporter": "python",
   "pygments_lexer": "ipython2",
   "version": "2.7.11"
  }
 },
 "nbformat": 4,
 "nbformat_minor": 0
}
